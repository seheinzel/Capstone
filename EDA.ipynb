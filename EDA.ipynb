{
 "cells": [
  {
   "cell_type": "code",
   "execution_count": 1,
   "metadata": {},
   "outputs": [],
   "source": [
    "import pandas as pd"
   ]
  },
  {
   "cell_type": "code",
   "execution_count": 2,
   "metadata": {},
   "outputs": [],
   "source": [
    "df = pd.read_csv(\"JEOPARDY_CSV.csv.zip\")"
   ]
  },
  {
   "cell_type": "code",
   "execution_count": 3,
   "metadata": {},
   "outputs": [
    {
     "data": {
      "text/html": [
       "<div>\n",
       "<style scoped>\n",
       "    .dataframe tbody tr th:only-of-type {\n",
       "        vertical-align: middle;\n",
       "    }\n",
       "\n",
       "    .dataframe tbody tr th {\n",
       "        vertical-align: top;\n",
       "    }\n",
       "\n",
       "    .dataframe thead th {\n",
       "        text-align: right;\n",
       "    }\n",
       "</style>\n",
       "<table border=\"1\" class=\"dataframe\">\n",
       "  <thead>\n",
       "    <tr style=\"text-align: right;\">\n",
       "      <th></th>\n",
       "      <th>Show Number</th>\n",
       "      <th>Air Date</th>\n",
       "      <th>Round</th>\n",
       "      <th>Category</th>\n",
       "      <th>Value</th>\n",
       "      <th>Question</th>\n",
       "      <th>Answer</th>\n",
       "    </tr>\n",
       "  </thead>\n",
       "  <tbody>\n",
       "    <tr>\n",
       "      <th>0</th>\n",
       "      <td>4680</td>\n",
       "      <td>2004-12-31</td>\n",
       "      <td>Jeopardy!</td>\n",
       "      <td>HISTORY</td>\n",
       "      <td>$200</td>\n",
       "      <td>For the last 8 years of his life, Galileo was ...</td>\n",
       "      <td>Copernicus</td>\n",
       "    </tr>\n",
       "    <tr>\n",
       "      <th>1</th>\n",
       "      <td>4680</td>\n",
       "      <td>2004-12-31</td>\n",
       "      <td>Jeopardy!</td>\n",
       "      <td>ESPN's TOP 10 ALL-TIME ATHLETES</td>\n",
       "      <td>$200</td>\n",
       "      <td>No. 2: 1912 Olympian; football star at Carlisl...</td>\n",
       "      <td>Jim Thorpe</td>\n",
       "    </tr>\n",
       "    <tr>\n",
       "      <th>2</th>\n",
       "      <td>4680</td>\n",
       "      <td>2004-12-31</td>\n",
       "      <td>Jeopardy!</td>\n",
       "      <td>EVERYBODY TALKS ABOUT IT...</td>\n",
       "      <td>$200</td>\n",
       "      <td>The city of Yuma in this state has a record av...</td>\n",
       "      <td>Arizona</td>\n",
       "    </tr>\n",
       "    <tr>\n",
       "      <th>3</th>\n",
       "      <td>4680</td>\n",
       "      <td>2004-12-31</td>\n",
       "      <td>Jeopardy!</td>\n",
       "      <td>THE COMPANY LINE</td>\n",
       "      <td>$200</td>\n",
       "      <td>In 1963, live on \"The Art Linkletter Show\", th...</td>\n",
       "      <td>McDonald's</td>\n",
       "    </tr>\n",
       "    <tr>\n",
       "      <th>4</th>\n",
       "      <td>4680</td>\n",
       "      <td>2004-12-31</td>\n",
       "      <td>Jeopardy!</td>\n",
       "      <td>EPITAPHS &amp; TRIBUTES</td>\n",
       "      <td>$200</td>\n",
       "      <td>Signer of the Dec. of Indep., framer of the Co...</td>\n",
       "      <td>John Adams</td>\n",
       "    </tr>\n",
       "    <tr>\n",
       "      <th>...</th>\n",
       "      <td>...</td>\n",
       "      <td>...</td>\n",
       "      <td>...</td>\n",
       "      <td>...</td>\n",
       "      <td>...</td>\n",
       "      <td>...</td>\n",
       "      <td>...</td>\n",
       "    </tr>\n",
       "    <tr>\n",
       "      <th>216925</th>\n",
       "      <td>4999</td>\n",
       "      <td>2006-05-11</td>\n",
       "      <td>Double Jeopardy!</td>\n",
       "      <td>RIDDLE ME THIS</td>\n",
       "      <td>$2000</td>\n",
       "      <td>This Puccini opera turns on the solution to 3 ...</td>\n",
       "      <td>Turandot</td>\n",
       "    </tr>\n",
       "    <tr>\n",
       "      <th>216926</th>\n",
       "      <td>4999</td>\n",
       "      <td>2006-05-11</td>\n",
       "      <td>Double Jeopardy!</td>\n",
       "      <td>\"T\" BIRDS</td>\n",
       "      <td>$2000</td>\n",
       "      <td>In North America this term is properly applied...</td>\n",
       "      <td>a titmouse</td>\n",
       "    </tr>\n",
       "    <tr>\n",
       "      <th>216927</th>\n",
       "      <td>4999</td>\n",
       "      <td>2006-05-11</td>\n",
       "      <td>Double Jeopardy!</td>\n",
       "      <td>AUTHORS IN THEIR YOUTH</td>\n",
       "      <td>$2000</td>\n",
       "      <td>In Penny Lane, where this \"Hellraiser\" grew up...</td>\n",
       "      <td>Clive Barker</td>\n",
       "    </tr>\n",
       "    <tr>\n",
       "      <th>216928</th>\n",
       "      <td>4999</td>\n",
       "      <td>2006-05-11</td>\n",
       "      <td>Double Jeopardy!</td>\n",
       "      <td>QUOTATIONS</td>\n",
       "      <td>$2000</td>\n",
       "      <td>From Ft. Sill, Okla. he made the plea, Arizona...</td>\n",
       "      <td>Geronimo</td>\n",
       "    </tr>\n",
       "    <tr>\n",
       "      <th>216929</th>\n",
       "      <td>4999</td>\n",
       "      <td>2006-05-11</td>\n",
       "      <td>Final Jeopardy!</td>\n",
       "      <td>HISTORIC NAMES</td>\n",
       "      <td>None</td>\n",
       "      <td>A silent movie title includes the last name of...</td>\n",
       "      <td>Grigori Alexandrovich Potemkin</td>\n",
       "    </tr>\n",
       "  </tbody>\n",
       "</table>\n",
       "<p>216930 rows × 7 columns</p>\n",
       "</div>"
      ],
      "text/plain": [
       "        Show Number    Air Date             Round  \\\n",
       "0              4680  2004-12-31         Jeopardy!   \n",
       "1              4680  2004-12-31         Jeopardy!   \n",
       "2              4680  2004-12-31         Jeopardy!   \n",
       "3              4680  2004-12-31         Jeopardy!   \n",
       "4              4680  2004-12-31         Jeopardy!   \n",
       "...             ...         ...               ...   \n",
       "216925         4999  2006-05-11  Double Jeopardy!   \n",
       "216926         4999  2006-05-11  Double Jeopardy!   \n",
       "216927         4999  2006-05-11  Double Jeopardy!   \n",
       "216928         4999  2006-05-11  Double Jeopardy!   \n",
       "216929         4999  2006-05-11   Final Jeopardy!   \n",
       "\n",
       "                               Category  Value  \\\n",
       "0                               HISTORY   $200   \n",
       "1       ESPN's TOP 10 ALL-TIME ATHLETES   $200   \n",
       "2           EVERYBODY TALKS ABOUT IT...   $200   \n",
       "3                      THE COMPANY LINE   $200   \n",
       "4                   EPITAPHS & TRIBUTES   $200   \n",
       "...                                 ...    ...   \n",
       "216925                   RIDDLE ME THIS  $2000   \n",
       "216926                        \"T\" BIRDS  $2000   \n",
       "216927           AUTHORS IN THEIR YOUTH  $2000   \n",
       "216928                       QUOTATIONS  $2000   \n",
       "216929                   HISTORIC NAMES   None   \n",
       "\n",
       "                                                 Question  \\\n",
       "0       For the last 8 years of his life, Galileo was ...   \n",
       "1       No. 2: 1912 Olympian; football star at Carlisl...   \n",
       "2       The city of Yuma in this state has a record av...   \n",
       "3       In 1963, live on \"The Art Linkletter Show\", th...   \n",
       "4       Signer of the Dec. of Indep., framer of the Co...   \n",
       "...                                                   ...   \n",
       "216925  This Puccini opera turns on the solution to 3 ...   \n",
       "216926  In North America this term is properly applied...   \n",
       "216927  In Penny Lane, where this \"Hellraiser\" grew up...   \n",
       "216928  From Ft. Sill, Okla. he made the plea, Arizona...   \n",
       "216929  A silent movie title includes the last name of...   \n",
       "\n",
       "                                Answer  \n",
       "0                           Copernicus  \n",
       "1                           Jim Thorpe  \n",
       "2                              Arizona  \n",
       "3                           McDonald's  \n",
       "4                           John Adams  \n",
       "...                                ...  \n",
       "216925                        Turandot  \n",
       "216926                      a titmouse  \n",
       "216927                    Clive Barker  \n",
       "216928                        Geronimo  \n",
       "216929  Grigori Alexandrovich Potemkin  \n",
       "\n",
       "[216930 rows x 7 columns]"
      ]
     },
     "execution_count": 3,
     "metadata": {},
     "output_type": "execute_result"
    }
   ],
   "source": [
    "df"
   ]
  },
  {
   "cell_type": "code",
   "execution_count": 9,
   "metadata": {},
   "outputs": [
    {
     "name": "stdout",
     "output_type": "stream",
     "text": [
      "<class 'pandas.core.frame.DataFrame'>\n",
      "RangeIndex: 216930 entries, 0 to 216929\n",
      "Data columns (total 7 columns):\n",
      " #   Column       Non-Null Count   Dtype \n",
      "---  ------       --------------   ----- \n",
      " 0   Show Number  216930 non-null  int64 \n",
      " 1    Air Date    216930 non-null  object\n",
      " 2    Round       216930 non-null  object\n",
      " 3    Category    216930 non-null  object\n",
      " 4    Value       216930 non-null  object\n",
      " 5    Question    216930 non-null  object\n",
      " 6    Answer      216928 non-null  object\n",
      "dtypes: int64(1), object(6)\n",
      "memory usage: 11.6+ MB\n"
     ]
    }
   ],
   "source": [
    "df.info()"
   ]
  },
  {
   "cell_type": "code",
   "execution_count": 10,
   "metadata": {},
   "outputs": [
    {
     "data": {
      "text/plain": [
       "Index(['Show Number', ' Air Date', ' Round', ' Category', ' Value',\n",
       "       ' Question', ' Answer'],\n",
       "      dtype='object')"
      ]
     },
     "execution_count": 10,
     "metadata": {},
     "output_type": "execute_result"
    }
   ],
   "source": [
    "df.columns"
   ]
  },
  {
   "cell_type": "code",
   "execution_count": 11,
   "metadata": {},
   "outputs": [],
   "source": [
    "#get rid of space in front of column names and between words\n",
    "df.columns = df.columns.str.replace(' ', '')"
   ]
  },
  {
   "cell_type": "code",
   "execution_count": 15,
   "metadata": {},
   "outputs": [
    {
     "data": {
      "text/plain": [
       "84523     1984-09-10\n",
       "84565     1984-09-10\n",
       "84566     1984-09-10\n",
       "84567     1984-09-10\n",
       "84568     1984-09-10\n",
       "             ...    \n",
       "105947    2012-01-27\n",
       "105948    2012-01-27\n",
       "105949    2012-01-27\n",
       "105951    2012-01-27\n",
       "105930    2012-01-27\n",
       "Name: AirDate, Length: 216930, dtype: object"
      ]
     },
     "execution_count": 15,
     "metadata": {},
     "output_type": "execute_result"
    }
   ],
   "source": [
    "df['AirDate'].sort_values()"
   ]
  },
  {
   "cell_type": "code",
   "execution_count": null,
   "metadata": {},
   "outputs": [],
   "source": []
  }
 ],
 "metadata": {
  "kernelspec": {
   "display_name": "Python (learn-env)",
   "language": "python",
   "name": "learn-env"
  },
  "language_info": {
   "codemirror_mode": {
    "name": "ipython",
    "version": 3
   },
   "file_extension": ".py",
   "mimetype": "text/x-python",
   "name": "python",
   "nbconvert_exporter": "python",
   "pygments_lexer": "ipython3",
   "version": "3.8.5"
  }
 },
 "nbformat": 4,
 "nbformat_minor": 4
}
