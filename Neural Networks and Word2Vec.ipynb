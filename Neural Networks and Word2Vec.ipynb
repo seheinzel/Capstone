{
 "cells": [
  {
   "cell_type": "markdown",
   "metadata": {},
   "source": [
    "## Neural Networks and Word2Vec"
   ]
  },
  {
   "cell_type": "code",
   "execution_count": 1,
   "metadata": {},
   "outputs": [],
   "source": [
    "import pandas as pd\n",
    "import matplotlib.pyplot as plt\n",
    "import numpy as np\n",
    "import seaborn as sns\n",
    "import joblib\n",
    "import math\n",
    "import gensim\n",
    "from gensim.models import Word2Vec\n",
    "from gensim.models.doc2vec import Doc2Vec, TaggedDocument"
   ]
  },
  {
   "cell_type": "code",
   "execution_count": 2,
   "metadata": {},
   "outputs": [],
   "source": [
    "from nltk.stem.snowball import SnowballStemmer\n",
    "from nltk.tokenize import word_tokenize\n",
    "from nltk.corpus import stopwords\n",
    "from nltk.stem.wordnet import WordNetLemmatizer"
   ]
  },
  {
   "cell_type": "code",
   "execution_count": 3,
   "metadata": {},
   "outputs": [],
   "source": [
    "from textblob import TextBlob\n",
    "from wordcloud import WordCloud"
   ]
  },
  {
   "cell_type": "code",
   "execution_count": 4,
   "metadata": {},
   "outputs": [],
   "source": [
    "from sklearn.model_selection import train_test_split, cross_val_score, GridSearchCV\n",
    "from sklearn.linear_model import LinearRegression, ElasticNet, Ridge\n",
    "from sklearn.feature_extraction.text import TfidfVectorizer, CountVectorizer, HashingVectorizer\n",
    "from sklearn.feature_extraction import text\n",
    "from sklearn.naive_bayes import MultinomialNB\n",
    "from sklearn.metrics import confusion_matrix, plot_confusion_matrix, mean_squared_error, r2_score\n",
    "from sklearn.tree import DecisionTreeRegressor\n",
    "from sklearn.ensemble import RandomForestRegressor, GradientBoostingRegressor\n",
    "from sklearn.svm import SVR, LinearSVR\n",
    "from sklearn.preprocessing import StandardScaler\n",
    "from sklearn.manifold import TSNE\n",
    "from sklearn.pipeline import Pipeline"
   ]
  },
  {
   "cell_type": "code",
   "execution_count": 5,
   "metadata": {},
   "outputs": [],
   "source": [
    "from tensorflow.keras.layers import Dropout, Embedding, SpatialDropout1D, LSTM, Dense\n",
    "from tensorflow.keras.models import Sequential\n",
    "from tensorflow.keras import layers, regularizers\n",
    "from tensorflow.keras.preprocessing.text import Tokenizer\n",
    "from tensorflow.keras.preprocessing.sequence import pad_sequences\n",
    "from tensorflow.keras.callbacks import EarlyStopping\n",
    "from keras.wrappers.scikit_learn import KerasRegressor"
   ]
  },
  {
   "cell_type": "code",
   "execution_count": 6,
   "metadata": {},
   "outputs": [],
   "source": [
    "df = pd.read_csv(\"combined_season1-37.tsv.zip\", delimiter='\\t')"
   ]
  },
  {
   "cell_type": "code",
   "execution_count": 7,
   "metadata": {},
   "outputs": [
    {
     "data": {
      "text/html": [
       "<div>\n",
       "<style scoped>\n",
       "    .dataframe tbody tr th:only-of-type {\n",
       "        vertical-align: middle;\n",
       "    }\n",
       "\n",
       "    .dataframe tbody tr th {\n",
       "        vertical-align: top;\n",
       "    }\n",
       "\n",
       "    .dataframe thead th {\n",
       "        text-align: right;\n",
       "    }\n",
       "</style>\n",
       "<table border=\"1\" class=\"dataframe\">\n",
       "  <thead>\n",
       "    <tr style=\"text-align: right;\">\n",
       "      <th></th>\n",
       "      <th>round</th>\n",
       "      <th>value</th>\n",
       "      <th>daily_double</th>\n",
       "      <th>category</th>\n",
       "      <th>comments</th>\n",
       "      <th>answer</th>\n",
       "      <th>question</th>\n",
       "      <th>air_date</th>\n",
       "      <th>notes</th>\n",
       "    </tr>\n",
       "  </thead>\n",
       "  <tbody>\n",
       "    <tr>\n",
       "      <th>0</th>\n",
       "      <td>1</td>\n",
       "      <td>100</td>\n",
       "      <td>no</td>\n",
       "      <td>LAKES &amp; RIVERS</td>\n",
       "      <td>-</td>\n",
       "      <td>River mentioned most often in the Bible</td>\n",
       "      <td>the Jordan</td>\n",
       "      <td>1984-09-10</td>\n",
       "      <td>-</td>\n",
       "    </tr>\n",
       "    <tr>\n",
       "      <th>1</th>\n",
       "      <td>1</td>\n",
       "      <td>200</td>\n",
       "      <td>no</td>\n",
       "      <td>LAKES &amp; RIVERS</td>\n",
       "      <td>-</td>\n",
       "      <td>Scottish word for lake</td>\n",
       "      <td>loch</td>\n",
       "      <td>1984-09-10</td>\n",
       "      <td>-</td>\n",
       "    </tr>\n",
       "    <tr>\n",
       "      <th>2</th>\n",
       "      <td>1</td>\n",
       "      <td>800</td>\n",
       "      <td>yes</td>\n",
       "      <td>LAKES &amp; RIVERS</td>\n",
       "      <td>-</td>\n",
       "      <td>River in this famous song:</td>\n",
       "      <td>the Volga River</td>\n",
       "      <td>1984-09-10</td>\n",
       "      <td>-</td>\n",
       "    </tr>\n",
       "    <tr>\n",
       "      <th>3</th>\n",
       "      <td>1</td>\n",
       "      <td>400</td>\n",
       "      <td>no</td>\n",
       "      <td>LAKES &amp; RIVERS</td>\n",
       "      <td>-</td>\n",
       "      <td>American river only 33 miles shorter than the ...</td>\n",
       "      <td>the Missouri</td>\n",
       "      <td>1984-09-10</td>\n",
       "      <td>-</td>\n",
       "    </tr>\n",
       "    <tr>\n",
       "      <th>4</th>\n",
       "      <td>1</td>\n",
       "      <td>500</td>\n",
       "      <td>no</td>\n",
       "      <td>LAKES &amp; RIVERS</td>\n",
       "      <td>-</td>\n",
       "      <td>World's largest lake, nearly 5 times as big as...</td>\n",
       "      <td>the Caspian Sea</td>\n",
       "      <td>1984-09-10</td>\n",
       "      <td>-</td>\n",
       "    </tr>\n",
       "    <tr>\n",
       "      <th>...</th>\n",
       "      <td>...</td>\n",
       "      <td>...</td>\n",
       "      <td>...</td>\n",
       "      <td>...</td>\n",
       "      <td>...</td>\n",
       "      <td>...</td>\n",
       "      <td>...</td>\n",
       "      <td>...</td>\n",
       "      <td>...</td>\n",
       "    </tr>\n",
       "    <tr>\n",
       "      <th>389440</th>\n",
       "      <td>2</td>\n",
       "      <td>400</td>\n",
       "      <td>no</td>\n",
       "      <td>FOUNDRY</td>\n",
       "      <td>-</td>\n",
       "      <td>This hefty noisemaker from Whitechapel Foundry...</td>\n",
       "      <td>Big Ben</td>\n",
       "      <td>2021-08-13</td>\n",
       "      <td>-</td>\n",
       "    </tr>\n",
       "    <tr>\n",
       "      <th>389441</th>\n",
       "      <td>2</td>\n",
       "      <td>800</td>\n",
       "      <td>no</td>\n",
       "      <td>FOUNDRY</td>\n",
       "      <td>-</td>\n",
       "      <td>Around 4,000 years ago, the first foundries in...</td>\n",
       "      <td>bronze</td>\n",
       "      <td>2021-08-13</td>\n",
       "      <td>-</td>\n",
       "    </tr>\n",
       "    <tr>\n",
       "      <th>389442</th>\n",
       "      <td>2</td>\n",
       "      <td>1200</td>\n",
       "      <td>no</td>\n",
       "      <td>FOUNDRY</td>\n",
       "      <td>-</td>\n",
       "      <td>Several different foundries worked for 4 month...</td>\n",
       "      <td>Monitor</td>\n",
       "      <td>2021-08-13</td>\n",
       "      <td>-</td>\n",
       "    </tr>\n",
       "    <tr>\n",
       "      <th>389443</th>\n",
       "      <td>2</td>\n",
       "      <td>1600</td>\n",
       "      <td>no</td>\n",
       "      <td>FOUNDRY</td>\n",
       "      <td>-</td>\n",
       "      <td>Once one of the largest of its kind, the Gary ...</td>\n",
       "      <td>U.S. Steel</td>\n",
       "      <td>2021-08-13</td>\n",
       "      <td>-</td>\n",
       "    </tr>\n",
       "    <tr>\n",
       "      <th>389444</th>\n",
       "      <td>3</td>\n",
       "      <td>0</td>\n",
       "      <td>no</td>\n",
       "      <td>19th CENTURY AMERICAN WOMEN</td>\n",
       "      <td>-</td>\n",
       "      <td>2 of the 3 women depicted on the first statue ...</td>\n",
       "      <td>(2 of) (Sojourner) Truth, (Susan B.) Anthony, ...</td>\n",
       "      <td>2021-08-13</td>\n",
       "      <td>-</td>\n",
       "    </tr>\n",
       "  </tbody>\n",
       "</table>\n",
       "<p>389445 rows × 9 columns</p>\n",
       "</div>"
      ],
      "text/plain": [
       "        round  value daily_double                     category comments  \\\n",
       "0           1    100           no               LAKES & RIVERS        -   \n",
       "1           1    200           no               LAKES & RIVERS        -   \n",
       "2           1    800          yes               LAKES & RIVERS        -   \n",
       "3           1    400           no               LAKES & RIVERS        -   \n",
       "4           1    500           no               LAKES & RIVERS        -   \n",
       "...       ...    ...          ...                          ...      ...   \n",
       "389440      2    400           no                      FOUNDRY        -   \n",
       "389441      2    800           no                      FOUNDRY        -   \n",
       "389442      2   1200           no                      FOUNDRY        -   \n",
       "389443      2   1600           no                      FOUNDRY        -   \n",
       "389444      3      0           no  19th CENTURY AMERICAN WOMEN        -   \n",
       "\n",
       "                                                   answer  \\\n",
       "0                 River mentioned most often in the Bible   \n",
       "1                                  Scottish word for lake   \n",
       "2                              River in this famous song:   \n",
       "3       American river only 33 miles shorter than the ...   \n",
       "4       World's largest lake, nearly 5 times as big as...   \n",
       "...                                                   ...   \n",
       "389440  This hefty noisemaker from Whitechapel Foundry...   \n",
       "389441  Around 4,000 years ago, the first foundries in...   \n",
       "389442  Several different foundries worked for 4 month...   \n",
       "389443  Once one of the largest of its kind, the Gary ...   \n",
       "389444  2 of the 3 women depicted on the first statue ...   \n",
       "\n",
       "                                                 question    air_date notes  \n",
       "0                                              the Jordan  1984-09-10     -  \n",
       "1                                                    loch  1984-09-10     -  \n",
       "2                                         the Volga River  1984-09-10     -  \n",
       "3                                            the Missouri  1984-09-10     -  \n",
       "4                                         the Caspian Sea  1984-09-10     -  \n",
       "...                                                   ...         ...   ...  \n",
       "389440                                            Big Ben  2021-08-13     -  \n",
       "389441                                             bronze  2021-08-13     -  \n",
       "389442                                            Monitor  2021-08-13     -  \n",
       "389443                                         U.S. Steel  2021-08-13     -  \n",
       "389444  (2 of) (Sojourner) Truth, (Susan B.) Anthony, ...  2021-08-13     -  \n",
       "\n",
       "[389445 rows x 9 columns]"
      ]
     },
     "execution_count": 7,
     "metadata": {},
     "output_type": "execute_result"
    }
   ],
   "source": [
    "df"
   ]
  },
  {
   "cell_type": "code",
   "execution_count": 8,
   "metadata": {},
   "outputs": [],
   "source": [
    "df['air_date'] = pd.to_datetime(df['air_date'])"
   ]
  },
  {
   "cell_type": "code",
   "execution_count": 9,
   "metadata": {},
   "outputs": [],
   "source": [
    "#On 11/26/2001, the values for the questions doubled for both rounds of Jeopardy. Need to adjust the earlier episodes to have the same values as post-11/26/2001 shows.\n",
    "df.loc[df['air_date'] < '2001-11-26', \"value\"] = df.value * 2"
   ]
  },
  {
   "cell_type": "code",
   "execution_count": 10,
   "metadata": {},
   "outputs": [],
   "source": [
    "#remove Daily Doubles since the contestants can wager any amounts for those\n",
    "df = df[df[\"daily_double\"] != 'yes']"
   ]
  },
  {
   "cell_type": "code",
   "execution_count": 11,
   "metadata": {},
   "outputs": [],
   "source": [
    "#keep only standard values (this will remove Final Jeopardy questions, which do not have a set amount and set are at '0', as well as the handful of non-standard values that are likely typos)\n",
    "df = df.loc[df['value'].isin([200, 400, 600, 800, 1000, 400, 800, 1200, 1600, 2000])]"
   ]
  },
  {
   "cell_type": "markdown",
   "metadata": {},
   "source": [
    "## NLP Data Cleaning"
   ]
  },
  {
   "cell_type": "code",
   "execution_count": 12,
   "metadata": {},
   "outputs": [
    {
     "data": {
      "text/plain": [
       "'!\"#$%&\\'()*+,-./:;<=>?@[\\\\]^_`{|}~'"
      ]
     },
     "execution_count": 12,
     "metadata": {},
     "output_type": "execute_result"
    }
   ],
   "source": [
    "# import string to remove punctuation\n",
    "\n",
    "import string\n",
    "string.punctuation"
   ]
  },
  {
   "cell_type": "code",
   "execution_count": 13,
   "metadata": {},
   "outputs": [],
   "source": [
    "def no_punctuation(text):\n",
    "    nopunct=[words for words in text if words not in string.punctuation]\n",
    "    words_without_punct=''.join(nopunct)\n",
    "    return words_without_punct"
   ]
  },
  {
   "cell_type": "code",
   "execution_count": 14,
   "metadata": {},
   "outputs": [],
   "source": [
    "#remove punctuation and lowercase words in 'category,' 'answer,' and 'question'\n",
    "\n",
    "df['category'] = df['category'].apply(lambda x: no_punctuation(x).lower())\n",
    "df['answer'] = df['answer'].apply(lambda x: no_punctuation(x).lower())\n",
    "df['question'] = df['question'].apply(lambda x: no_punctuation(x).lower())"
   ]
  },
  {
   "cell_type": "code",
   "execution_count": 15,
   "metadata": {},
   "outputs": [],
   "source": [
    "#remove numerals from 'category,' 'answer,' and 'question'\n",
    "\n",
    "df['category'] = df['category'].str.replace('\\d+', '')\n",
    "df['answer'] = df['answer'].str.replace('\\d+', '')\n",
    "df['question'] = df['question'].str.replace('\\d+', '')"
   ]
  },
  {
   "cell_type": "code",
   "execution_count": 16,
   "metadata": {},
   "outputs": [
    {
     "data": {
      "text/html": [
       "<div>\n",
       "<style scoped>\n",
       "    .dataframe tbody tr th:only-of-type {\n",
       "        vertical-align: middle;\n",
       "    }\n",
       "\n",
       "    .dataframe tbody tr th {\n",
       "        vertical-align: top;\n",
       "    }\n",
       "\n",
       "    .dataframe thead th {\n",
       "        text-align: right;\n",
       "    }\n",
       "</style>\n",
       "<table border=\"1\" class=\"dataframe\">\n",
       "  <thead>\n",
       "    <tr style=\"text-align: right;\">\n",
       "      <th></th>\n",
       "      <th>round</th>\n",
       "      <th>value</th>\n",
       "      <th>daily_double</th>\n",
       "      <th>category</th>\n",
       "      <th>comments</th>\n",
       "      <th>answer</th>\n",
       "      <th>question</th>\n",
       "      <th>air_date</th>\n",
       "      <th>notes</th>\n",
       "    </tr>\n",
       "  </thead>\n",
       "  <tbody>\n",
       "    <tr>\n",
       "      <th>0</th>\n",
       "      <td>1</td>\n",
       "      <td>200</td>\n",
       "      <td>no</td>\n",
       "      <td>lakes  rivers</td>\n",
       "      <td>-</td>\n",
       "      <td>river mentioned most often in the bible</td>\n",
       "      <td>the jordan</td>\n",
       "      <td>1984-09-10</td>\n",
       "      <td>-</td>\n",
       "    </tr>\n",
       "    <tr>\n",
       "      <th>1</th>\n",
       "      <td>1</td>\n",
       "      <td>400</td>\n",
       "      <td>no</td>\n",
       "      <td>lakes  rivers</td>\n",
       "      <td>-</td>\n",
       "      <td>scottish word for lake</td>\n",
       "      <td>loch</td>\n",
       "      <td>1984-09-10</td>\n",
       "      <td>-</td>\n",
       "    </tr>\n",
       "    <tr>\n",
       "      <th>3</th>\n",
       "      <td>1</td>\n",
       "      <td>800</td>\n",
       "      <td>no</td>\n",
       "      <td>lakes  rivers</td>\n",
       "      <td>-</td>\n",
       "      <td>american river only  miles shorter than the mi...</td>\n",
       "      <td>the missouri</td>\n",
       "      <td>1984-09-10</td>\n",
       "      <td>-</td>\n",
       "    </tr>\n",
       "    <tr>\n",
       "      <th>4</th>\n",
       "      <td>1</td>\n",
       "      <td>1000</td>\n",
       "      <td>no</td>\n",
       "      <td>lakes  rivers</td>\n",
       "      <td>-</td>\n",
       "      <td>worlds largest lake nearly  times as big as su...</td>\n",
       "      <td>the caspian sea</td>\n",
       "      <td>1984-09-10</td>\n",
       "      <td>-</td>\n",
       "    </tr>\n",
       "    <tr>\n",
       "      <th>5</th>\n",
       "      <td>1</td>\n",
       "      <td>200</td>\n",
       "      <td>no</td>\n",
       "      <td>inventions</td>\n",
       "      <td>-</td>\n",
       "      <td>marconis wonderful wireless</td>\n",
       "      <td>the radio</td>\n",
       "      <td>1984-09-10</td>\n",
       "      <td>-</td>\n",
       "    </tr>\n",
       "    <tr>\n",
       "      <th>...</th>\n",
       "      <td>...</td>\n",
       "      <td>...</td>\n",
       "      <td>...</td>\n",
       "      <td>...</td>\n",
       "      <td>...</td>\n",
       "      <td>...</td>\n",
       "      <td>...</td>\n",
       "      <td>...</td>\n",
       "      <td>...</td>\n",
       "    </tr>\n",
       "    <tr>\n",
       "      <th>389438</th>\n",
       "      <td>2</td>\n",
       "      <td>1600</td>\n",
       "      <td>no</td>\n",
       "      <td>lost</td>\n",
       "      <td>-</td>\n",
       "      <td>in a moveable feast gertrude stein is quoted a...</td>\n",
       "      <td>lost generation</td>\n",
       "      <td>2021-08-13</td>\n",
       "      <td>-</td>\n",
       "    </tr>\n",
       "    <tr>\n",
       "      <th>389440</th>\n",
       "      <td>2</td>\n",
       "      <td>400</td>\n",
       "      <td>no</td>\n",
       "      <td>foundry</td>\n",
       "      <td>-</td>\n",
       "      <td>this hefty noisemaker from whitechapel foundry...</td>\n",
       "      <td>big ben</td>\n",
       "      <td>2021-08-13</td>\n",
       "      <td>-</td>\n",
       "    </tr>\n",
       "    <tr>\n",
       "      <th>389441</th>\n",
       "      <td>2</td>\n",
       "      <td>800</td>\n",
       "      <td>no</td>\n",
       "      <td>foundry</td>\n",
       "      <td>-</td>\n",
       "      <td>around  years ago the first foundries in mesop...</td>\n",
       "      <td>bronze</td>\n",
       "      <td>2021-08-13</td>\n",
       "      <td>-</td>\n",
       "    </tr>\n",
       "    <tr>\n",
       "      <th>389442</th>\n",
       "      <td>2</td>\n",
       "      <td>1200</td>\n",
       "      <td>no</td>\n",
       "      <td>foundry</td>\n",
       "      <td>-</td>\n",
       "      <td>several different foundries worked for  months...</td>\n",
       "      <td>monitor</td>\n",
       "      <td>2021-08-13</td>\n",
       "      <td>-</td>\n",
       "    </tr>\n",
       "    <tr>\n",
       "      <th>389443</th>\n",
       "      <td>2</td>\n",
       "      <td>1600</td>\n",
       "      <td>no</td>\n",
       "      <td>foundry</td>\n",
       "      <td>-</td>\n",
       "      <td>once one of the largest of its kind the gary w...</td>\n",
       "      <td>us steel</td>\n",
       "      <td>2021-08-13</td>\n",
       "      <td>-</td>\n",
       "    </tr>\n",
       "  </tbody>\n",
       "</table>\n",
       "<p>363765 rows × 9 columns</p>\n",
       "</div>"
      ],
      "text/plain": [
       "        round  value daily_double       category comments  \\\n",
       "0           1    200           no  lakes  rivers        -   \n",
       "1           1    400           no  lakes  rivers        -   \n",
       "3           1    800           no  lakes  rivers        -   \n",
       "4           1   1000           no  lakes  rivers        -   \n",
       "5           1    200           no     inventions        -   \n",
       "...       ...    ...          ...            ...      ...   \n",
       "389438      2   1600           no           lost        -   \n",
       "389440      2    400           no        foundry        -   \n",
       "389441      2    800           no        foundry        -   \n",
       "389442      2   1200           no        foundry        -   \n",
       "389443      2   1600           no        foundry        -   \n",
       "\n",
       "                                                   answer         question  \\\n",
       "0                 river mentioned most often in the bible       the jordan   \n",
       "1                                  scottish word for lake             loch   \n",
       "3       american river only  miles shorter than the mi...     the missouri   \n",
       "4       worlds largest lake nearly  times as big as su...  the caspian sea   \n",
       "5                             marconis wonderful wireless        the radio   \n",
       "...                                                   ...              ...   \n",
       "389438  in a moveable feast gertrude stein is quoted a...  lost generation   \n",
       "389440  this hefty noisemaker from whitechapel foundry...          big ben   \n",
       "389441  around  years ago the first foundries in mesop...           bronze   \n",
       "389442  several different foundries worked for  months...          monitor   \n",
       "389443  once one of the largest of its kind the gary w...         us steel   \n",
       "\n",
       "         air_date notes  \n",
       "0      1984-09-10     -  \n",
       "1      1984-09-10     -  \n",
       "3      1984-09-10     -  \n",
       "4      1984-09-10     -  \n",
       "5      1984-09-10     -  \n",
       "...           ...   ...  \n",
       "389438 2021-08-13     -  \n",
       "389440 2021-08-13     -  \n",
       "389441 2021-08-13     -  \n",
       "389442 2021-08-13     -  \n",
       "389443 2021-08-13     -  \n",
       "\n",
       "[363765 rows x 9 columns]"
      ]
     },
     "execution_count": 16,
     "metadata": {},
     "output_type": "execute_result"
    }
   ],
   "source": [
    "df"
   ]
  },
  {
   "cell_type": "markdown",
   "metadata": {},
   "source": [
    "## Neural Network"
   ]
  },
  {
   "cell_type": "code",
   "execution_count": 17,
   "metadata": {},
   "outputs": [],
   "source": [
    "#Use 'answer' (Jeopardy questions) as the feature and 'value' as the target\n",
    "\n",
    "X = df['answer']\n",
    "y = df['value']"
   ]
  },
  {
   "cell_type": "code",
   "execution_count": 18,
   "metadata": {},
   "outputs": [],
   "source": [
    "X_train, X_test, y_train, y_test = train_test_split(X, y, test_size= 0.25, random_state=54)"
   ]
  },
  {
   "cell_type": "code",
   "execution_count": 19,
   "metadata": {},
   "outputs": [],
   "source": [
    "#Instantiate the vector with stop words, max_features=1000, and bigrams\n",
    "tfidf = TfidfVectorizer(stop_words='english', ngram_range= (1, 2), max_features=1000)\n",
    "\n",
    "# Fit the vectorizer on X_train and transform it\n",
    "X_train_vectorized = tfidf.fit_transform(X_train).todense()"
   ]
  },
  {
   "cell_type": "code",
   "execution_count": 20,
   "metadata": {},
   "outputs": [
    {
     "name": "stdout",
     "output_type": "stream",
     "text": [
      "Shape of X_train_vectorized: (272823, 1000)\n"
     ]
    }
   ],
   "source": [
    "print(\"Shape of X_train_vectorized:\", X_train_vectorized.shape)"
   ]
  },
  {
   "cell_type": "code",
   "execution_count": 21,
   "metadata": {},
   "outputs": [],
   "source": [
    "# Creating a Neural Network Model\n",
    "# Initialize a sequential model\n",
    "model = Sequential()\n",
    "\n",
    "# Three layers with relu activation\n",
    "model.add(layers.Dense(20, input_dim=1000, activation='relu'))\n",
    "model.add(layers.Dense(10, activation='relu'))\n",
    "model.add(layers.Dense(1, activation='relu'))"
   ]
  },
  {
   "cell_type": "code",
   "execution_count": 22,
   "metadata": {},
   "outputs": [],
   "source": [
    "#compile the keras model\n",
    "model.compile(loss='mean_squared_error', optimizer='adam', metrics=['mse'])"
   ]
  },
  {
   "cell_type": "code",
   "execution_count": 29,
   "metadata": {},
   "outputs": [
    {
     "name": "stdout",
     "output_type": "stream",
     "text": [
      "Epoch 1/15\n",
      "2729/2729 [==============================] - 10s 4ms/step - loss: 275238.4688 - mse: 275238.4688\n",
      "Epoch 2/15\n",
      "2729/2729 [==============================] - 7s 3ms/step - loss: 275135.8125 - mse: 275135.8125\n",
      "Epoch 3/15\n",
      "2729/2729 [==============================] - 8s 3ms/step - loss: 275032.9062 - mse: 275032.9062\n",
      "Epoch 4/15\n",
      "2729/2729 [==============================] - 7s 3ms/step - loss: 274940.4688 - mse: 274940.4688\n",
      "Epoch 5/15\n",
      "2729/2729 [==============================] - 7s 3ms/step - loss: 274816.2500 - mse: 274816.2500\n",
      "Epoch 6/15\n",
      "2729/2729 [==============================] - 8s 3ms/step - loss: 274714.7812 - mse: 274714.7812A: 2\n",
      "Epoch 7/15\n",
      "2729/2729 [==============================] - 7s 2ms/step - loss: 274597.1875 - mse: 274597.1875\n",
      "Epoch 8/15\n",
      "2729/2729 [==============================] - 7s 2ms/step - loss: 274497.7812 - mse: 274497.7812\n",
      "Epoch 9/15\n",
      "2729/2729 [==============================] - 7s 2ms/step - loss: 274394.5625 - mse: 274394.5938\n",
      "Epoch 10/15\n",
      "2729/2729 [==============================] - 7s 2ms/step - loss: 274287.2812 - mse: 274287.3125\n",
      "Epoch 11/15\n",
      "2729/2729 [==============================] - 7s 2ms/step - loss: 274206.0000 - mse: 274206.0000\n",
      "Epoch 12/15\n",
      "2729/2729 [==============================] - 7s 3ms/step - loss: 274076.4062 - mse: 274076.4062\n",
      "Epoch 13/15\n",
      "2729/2729 [==============================] - 7s 3ms/step - loss: 273989.8750 - mse: 273989.8750\n",
      "Epoch 14/15\n",
      "2729/2729 [==============================] - 7s 2ms/step - loss: 273889.8438 - mse: 273889.8438\n",
      "Epoch 15/15\n",
      "2729/2729 [==============================] - 7s 2ms/step - loss: 273799.5312 - mse: 273799.5312\n"
     ]
    }
   ],
   "source": [
    "#fit the keras model on the dataset\n",
    "nn_model1 = model.fit(X_train_vectorized, y_train, epochs=15, batch_size=100)"
   ]
  },
  {
   "cell_type": "code",
   "execution_count": 36,
   "metadata": {},
   "outputs": [
    {
     "data": {
      "text/plain": [
       "523.2585701639296"
      ]
     },
     "execution_count": 36,
     "metadata": {},
     "output_type": "execute_result"
    }
   ],
   "source": [
    "mse= nn_model1.history['mse'][-1]\n",
    "rmse = math.sqrt(mse)\n",
    "rmse"
   ]
  },
  {
   "cell_type": "code",
   "execution_count": 37,
   "metadata": {},
   "outputs": [
    {
     "name": "stdout",
     "output_type": "stream",
     "text": [
      "Epoch 1/15\n",
      "2729/2729 [==============================] - 8s 3ms/step - loss: 838772.4375 - mse: 838772.4375\n",
      "Epoch 2/15\n",
      "2729/2729 [==============================] - 8s 3ms/step - loss: 280380.9062 - mse: 280380.9062\n",
      "Epoch 3/15\n",
      "2729/2729 [==============================] - 7s 3ms/step - loss: 277221.1875 - mse: 277221.1875\n",
      "Epoch 4/15\n",
      "2729/2729 [==============================] - 7s 2ms/step - loss: 276486.0938 - mse: 276486.0938\n",
      "Epoch 5/15\n",
      "2729/2729 [==============================] - 9s 3ms/step - loss: 276258.6250 - mse: 276258.6250\n",
      "Epoch 6/15\n",
      "2729/2729 [==============================] - 7s 3ms/step - loss: 276099.1250 - mse: 276099.1250\n",
      "Epoch 7/15\n",
      "2729/2729 [==============================] - 7s 3ms/step - loss: 276001.7500 - mse: 276001.7500\n",
      "Epoch 8/15\n",
      "2729/2729 [==============================] - 7s 3ms/step - loss: 275842.6250 - mse: 275842.6250\n",
      "Epoch 9/15\n",
      "2729/2729 [==============================] - 7s 3ms/step - loss: 275718.8125 - mse: 275718.8125\n",
      "Epoch 10/15\n",
      "2729/2729 [==============================] - 7s 3ms/step - loss: 275543.7812 - mse: 275543.7500\n",
      "Epoch 11/15\n",
      "2729/2729 [==============================] - 7s 3ms/step - loss: 275382.5000 - mse: 275382.5000\n",
      "Epoch 12/15\n",
      "2729/2729 [==============================] - 7s 3ms/step - loss: 275214.5000 - mse: 275214.4688\n",
      "Epoch 13/15\n",
      "2729/2729 [==============================] - 7s 3ms/step - loss: 275076.2188 - mse: 275076.2188\n",
      "Epoch 14/15\n",
      "2729/2729 [==============================] - 7s 2ms/step - loss: 274901.9062 - mse: 274901.8438\n",
      "Epoch 15/15\n",
      "2729/2729 [==============================] - 7s 3ms/step - loss: 274809.8750 - mse: 274809.8750\n"
     ]
    }
   ],
   "source": [
    "# Add more layers\n",
    "# Initialize a sequential model\n",
    "model2 = Sequential()\n",
    "\n",
    "# Five layers with relu activation\n",
    "model2.add(layers.Dense(20, input_dim=1000, activation='relu'))\n",
    "model2.add(layers.Dense(10, activation='relu'))\n",
    "model2.add(layers.Dense(10, activation='relu'))\n",
    "model2.add(layers.Dense(10, activation='relu'))\n",
    "model2.add(layers.Dense(1, activation='relu'))\n",
    "\n",
    "#compile the keras model\n",
    "model2.compile(loss='mean_squared_error', optimizer='adam', metrics=['mse'])\n",
    "\n",
    "#fit the keras model on the dataset\n",
    "nn_model2 = model2.fit(X_train_vectorized, y_train, epochs=15, batch_size=100)"
   ]
  },
  {
   "cell_type": "code",
   "execution_count": 38,
   "metadata": {},
   "outputs": [
    {
     "data": {
      "text/plain": [
       "524.2231156673654"
      ]
     },
     "execution_count": 38,
     "metadata": {},
     "output_type": "execute_result"
    }
   ],
   "source": [
    "mse2= nn_model2.history['mse'][-1]\n",
    "rmse2 = math.sqrt(mse2)\n",
    "rmse2"
   ]
  },
  {
   "cell_type": "markdown",
   "metadata": {},
   "source": [
    "That's actually a little worse! let's try more epochs and bigger bathc size."
   ]
  },
  {
   "cell_type": "code",
   "execution_count": 39,
   "metadata": {},
   "outputs": [
    {
     "name": "stdout",
     "output_type": "stream",
     "text": [
      "Epoch 1/30\n",
      "1365/1365 [==============================] - 6s 4ms/step - loss: 274222.8125 - mse: 274222.8125\n",
      "Epoch 2/30\n",
      "1365/1365 [==============================] - 5s 3ms/step - loss: 274217.4688 - mse: 274217.5000\n",
      "Epoch 3/30\n",
      "1365/1365 [==============================] - 5s 3ms/step - loss: 274145.4062 - mse: 274145.4062\n",
      "Epoch 4/30\n",
      "1365/1365 [==============================] - 5s 4ms/step - loss: 274073.5625 - mse: 274073.5625\n",
      "Epoch 5/30\n",
      "1365/1365 [==============================] - 4s 3ms/step - loss: 274006.2500 - mse: 274006.2500\n",
      "Epoch 6/30\n",
      "1365/1365 [==============================] - 4s 3ms/step - loss: 273890.6562 - mse: 273890.6562\n",
      "Epoch 7/30\n",
      "1365/1365 [==============================] - 4s 3ms/step - loss: 273802.9688 - mse: 273802.9688\n",
      "Epoch 8/30\n",
      "1365/1365 [==============================] - 4s 3ms/step - loss: 273727.0625 - mse: 273727.0625\n",
      "Epoch 9/30\n",
      "1365/1365 [==============================] - 4s 3ms/step - loss: 273666.8438 - mse: 273666.8438\n",
      "Epoch 10/30\n",
      "1365/1365 [==============================] - 4s 3ms/step - loss: 273597.4688 - mse: 273597.4688\n",
      "Epoch 11/30\n",
      "1365/1365 [==============================] - 5s 4ms/step - loss: 273531.1250 - mse: 273531.1250\n",
      "Epoch 12/30\n",
      "1365/1365 [==============================] - 5s 3ms/step - loss: 273458.0625 - mse: 273458.0625\n",
      "Epoch 13/30\n",
      "1365/1365 [==============================] - 6s 4ms/step - loss: 273391.5625 - mse: 273391.5625\n",
      "Epoch 14/30\n",
      "1365/1365 [==============================] - 4s 3ms/step - loss: 273336.9375 - mse: 273336.9375\n",
      "Epoch 15/30\n",
      "1365/1365 [==============================] - 4s 3ms/step - loss: 273289.7812 - mse: 273289.7812\n",
      "Epoch 16/30\n",
      "1365/1365 [==============================] - 4s 3ms/step - loss: 273252.4688 - mse: 273252.4688\n",
      "Epoch 17/30\n",
      "1365/1365 [==============================] - 5s 3ms/step - loss: 273194.2188 - mse: 273194.2188\n",
      "Epoch 18/30\n",
      "1365/1365 [==============================] - 5s 3ms/step - loss: 273174.0312 - mse: 273174.0312A: 0s - loss: 27307\n",
      "Epoch 19/30\n",
      "1365/1365 [==============================] - 4s 3ms/step - loss: 273119.5000 - mse: 273119.5312\n",
      "Epoch 20/30\n",
      "1365/1365 [==============================] - 4s 3ms/step - loss: 273081.5312 - mse: 273081.5312\n",
      "Epoch 21/30\n",
      "1365/1365 [==============================] - 4s 3ms/step - loss: 273041.6562 - mse: 273041.6562\n",
      "Epoch 22/30\n",
      "1365/1365 [==============================] - 4s 3ms/step - loss: 272997.5000 - mse: 272997.5000\n",
      "Epoch 23/30\n",
      "1365/1365 [==============================] - 4s 3ms/step - loss: 272992.5625 - mse: 272992.5625\n",
      "Epoch 24/30\n",
      "1365/1365 [==============================] - 4s 3ms/step - loss: 272903.1250 - mse: 272903.1562A: 2\n",
      "Epoch 25/30\n",
      "1365/1365 [==============================] - 4s 3ms/step - loss: 272916.3125 - mse: 272916.3125\n",
      "Epoch 26/30\n",
      "1365/1365 [==============================] - 4s 3ms/step - loss: 272868.2812 - mse: 272868.2812\n",
      "Epoch 27/30\n",
      "1365/1365 [==============================] - 4s 3ms/step - loss: 272829.2188 - mse: 272829.2188\n",
      "Epoch 28/30\n",
      "1365/1365 [==============================] - 4s 3ms/step - loss: 272791.5938 - mse: 272791.5938\n",
      "Epoch 29/30\n",
      "1365/1365 [==============================] - 4s 3ms/step - loss: 272779.7500 - mse: 272779.7500\n",
      "Epoch 30/30\n",
      "1365/1365 [==============================] - 4s 3ms/step - loss: 272744.2188 - mse: 272744.2188\n"
     ]
    }
   ],
   "source": [
    "#fit the keras model on the dataset\n",
    "nn_model2 = model2.fit(X_train_vectorized, y_train, epochs=30, batch_size=200)"
   ]
  },
  {
   "cell_type": "code",
   "execution_count": 40,
   "metadata": {},
   "outputs": [
    {
     "data": {
      "text/plain": [
       "522.2491921965988"
      ]
     },
     "execution_count": 40,
     "metadata": {},
     "output_type": "execute_result"
    }
   ],
   "source": [
    "mse2= nn_model2.history['mse'][-1]\n",
    "rmse2 = math.sqrt(mse2)\n",
    "rmse2"
   ]
  },
  {
   "cell_type": "markdown",
   "metadata": {},
   "source": [
    "A small move in the right direction."
   ]
  },
  {
   "cell_type": "code",
   "execution_count": 42,
   "metadata": {},
   "outputs": [
    {
     "name": "stdout",
     "output_type": "stream",
     "text": [
      "Epoch 1/30\n",
      "1365/1365 [==============================] - 5s 4ms/step - loss: 373929.0000 - mse: 373929.0000\n",
      "Epoch 2/30\n",
      "1365/1365 [==============================] - 4s 3ms/step - loss: 277589.2500 - mse: 277589.2500\n",
      "Epoch 3/30\n",
      "1365/1365 [==============================] - 5s 4ms/step - loss: 276713.5000 - mse: 276713.5000\n",
      "Epoch 4/30\n",
      "1365/1365 [==============================] - 4s 3ms/step - loss: 276479.1875 - mse: 276479.1875\n",
      "Epoch 5/30\n",
      "1365/1365 [==============================] - 4s 3ms/step - loss: 276288.7812 - mse: 276288.7812\n",
      "Epoch 6/30\n",
      "1365/1365 [==============================] - 4s 3ms/step - loss: 276061.1875 - mse: 276061.1875\n",
      "Epoch 7/30\n",
      "1365/1365 [==============================] - 4s 3ms/step - loss: 275705.5000 - mse: 275705.5000\n",
      "Epoch 8/30\n",
      "1365/1365 [==============================] - 4s 3ms/step - loss: 275391.7500 - mse: 275391.7500\n",
      "Epoch 9/30\n",
      "1365/1365 [==============================] - 4s 3ms/step - loss: 275142.8750 - mse: 275142.8750\n",
      "Epoch 10/30\n",
      "1365/1365 [==============================] - 4s 3ms/step - loss: 274811.7188 - mse: 274811.7188\n",
      "Epoch 11/30\n",
      "1365/1365 [==============================] - 4s 3ms/step - loss: 274571.7500 - mse: 274571.7500\n",
      "Epoch 12/30\n",
      "1365/1365 [==============================] - 4s 3ms/step - loss: 274379.0000 - mse: 274379.0000\n",
      "Epoch 13/30\n",
      "1365/1365 [==============================] - 4s 3ms/step - loss: 274191.9375 - mse: 274191.9375\n",
      "Epoch 14/30\n",
      "1365/1365 [==============================] - 4s 3ms/step - loss: 274130.7500 - mse: 274130.7500\n",
      "Epoch 15/30\n",
      "1365/1365 [==============================] - 4s 3ms/step - loss: 273907.5938 - mse: 273907.5938\n",
      "Epoch 16/30\n",
      "1365/1365 [==============================] - 4s 3ms/step - loss: 273825.7500 - mse: 273825.7812\n",
      "Epoch 17/30\n",
      "1365/1365 [==============================] - 5s 3ms/step - loss: 273773.4375 - mse: 273773.4375\n",
      "Epoch 18/30\n",
      "1365/1365 [==============================] - 4s 3ms/step - loss: 273645.9062 - mse: 273645.9062\n",
      "Epoch 19/30\n",
      "1365/1365 [==============================] - 4s 3ms/step - loss: 273595.9062 - mse: 273595.9375\n",
      "Epoch 20/30\n",
      "1365/1365 [==============================] - 4s 3ms/step - loss: 273511.4062 - mse: 273511.4062A: 0s - loss: 272990.2500 - mse: 272\n",
      "Epoch 21/30\n",
      "1365/1365 [==============================] - 4s 3ms/step - loss: 273467.1562 - mse: 273467.1562\n",
      "Epoch 22/30\n",
      "1365/1365 [==============================] - 4s 3ms/step - loss: 273404.7188 - mse: 273404.7188\n",
      "Epoch 23/30\n",
      "1365/1365 [==============================] - 4s 3ms/step - loss: 273315.5000 - mse: 273315.5000\n",
      "Epoch 24/30\n",
      "1365/1365 [==============================] - 5s 3ms/step - loss: 273268.3750 - mse: 273268.3750\n",
      "Epoch 25/30\n",
      "1365/1365 [==============================] - 4s 3ms/step - loss: 273277.5000 - mse: 273277.5000A: 1s - loss: \n",
      "Epoch 26/30\n",
      "1365/1365 [==============================] - 4s 3ms/step - loss: 273214.7188 - mse: 273214.7188\n",
      "Epoch 27/30\n",
      "1365/1365 [==============================] - 5s 4ms/step - loss: 273169.2812 - mse: 273169.2812\n",
      "Epoch 28/30\n",
      "1365/1365 [==============================] - 4s 3ms/step - loss: 273086.7188 - mse: 273086.6875\n",
      "Epoch 29/30\n",
      "1365/1365 [==============================] - 4s 3ms/step - loss: 273003.8750 - mse: 273003.8750\n",
      "Epoch 30/30\n",
      "1365/1365 [==============================] - 5s 3ms/step - loss: 272896.8438 - mse: 272896.8438\n"
     ]
    }
   ],
   "source": [
    "# Regularize the model with dropout\n",
    "# Initialize a sequential model\n",
    "model3 = Sequential()\n",
    "\n",
    "# Five layers with relu activation and dropout\n",
    "model3.add(layers.Dense(20, input_dim=1000, activation='relu'))\n",
    "model.add(Dropout(0.5))\n",
    "model3.add(layers.Dense(20, activation='relu'))\n",
    "model3.add(layers.Dense(10, activation='relu'))\n",
    "model3.add(layers.Dense(10, activation='relu'))\n",
    "model3.add(layers.Dense(10, activation='relu'))\n",
    "model.add(Dropout(0.5))\n",
    "model3.add(layers.Dense(1, activation='relu'))\n",
    "\n",
    "#compile the keras model\n",
    "model3.compile(loss='mean_squared_error', optimizer='adam', metrics=['mse'])\n",
    "\n",
    "#fit the keras model on the dataset\n",
    "nn_model3 = model3.fit(X_train_vectorized, y_train, epochs=30, batch_size=200)"
   ]
  },
  {
   "cell_type": "code",
   "execution_count": 43,
   "metadata": {},
   "outputs": [
    {
     "data": {
      "text/plain": [
       "522.3952945327896"
      ]
     },
     "execution_count": 43,
     "metadata": {},
     "output_type": "execute_result"
    }
   ],
   "source": [
    "mse3= nn_model3.history['mse'][-1]\n",
    "rmse3 = math.sqrt(mse3)\n",
    "rmse3"
   ]
  },
  {
   "cell_type": "code",
   "execution_count": 46,
   "metadata": {},
   "outputs": [
    {
     "name": "stdout",
     "output_type": "stream",
     "text": [
      "Epoch 1/30\n",
      "1365/1365 [==============================] - 6s 4ms/step - loss: 388706.8750 - mse: 388685.6562\n",
      "Epoch 2/30\n",
      "1365/1365 [==============================] - 7s 5ms/step - loss: 278758.1562 - mse: 278738.6875A: 1s - loss:\n",
      "Epoch 3/30\n",
      "1365/1365 [==============================] - 6s 5ms/step - loss: 277010.6875 - mse: 276992.4688\n",
      "Epoch 4/30\n",
      "1365/1365 [==============================] - 6s 5ms/step - loss: 276617.5938 - mse: 276600.2812\n",
      "Epoch 5/30\n",
      "1365/1365 [==============================] - 5s 4ms/step - loss: 276445.2188 - mse: 276428.0938\n",
      "Epoch 6/30\n",
      "1365/1365 [==============================] - 5s 4ms/step - loss: 276425.8750 - mse: 276409.5938\n",
      "Epoch 7/30\n",
      "1365/1365 [==============================] - 5s 4ms/step - loss: 276301.6250 - mse: 276284.8750\n",
      "Epoch 8/30\n",
      "1365/1365 [==============================] - 5s 3ms/step - loss: 276259.5625 - mse: 276243.5625\n",
      "Epoch 9/30\n",
      "1365/1365 [==============================] - 5s 4ms/step - loss: 276268.2188 - mse: 276251.9375A: 0s - loss: 276248.5312 - mse: 276232.\n",
      "Epoch 10/30\n",
      "1365/1365 [==============================] - 6s 4ms/step - loss: 276204.7500 - mse: 276188.0625\n",
      "Epoch 11/30\n",
      "1365/1365 [==============================] - 5s 4ms/step - loss: 276193.0000 - mse: 276176.4688\n",
      "Epoch 12/30\n",
      "1365/1365 [==============================] - 5s 4ms/step - loss: 276167.6875 - mse: 276151.0938A: 1s - loss: 27580\n",
      "Epoch 13/30\n",
      "1365/1365 [==============================] - 5s 4ms/step - loss: 276118.0000 - mse: 276101.1250\n",
      "Epoch 14/30\n",
      "1365/1365 [==============================] - 5s 3ms/step - loss: 276168.8438 - mse: 276151.7500A:\n",
      "Epoch 15/30\n",
      "1365/1365 [==============================] - 5s 3ms/step - loss: 276131.0000 - mse: 276113.7500\n",
      "Epoch 16/30\n",
      "1365/1365 [==============================] - 5s 3ms/step - loss: 276113.7812 - mse: 276096.5938\n",
      "Epoch 17/30\n",
      "1365/1365 [==============================] - 5s 4ms/step - loss: 276061.9375 - mse: 276044.9062\n",
      "Epoch 18/30\n",
      "1365/1365 [==============================] - 5s 3ms/step - loss: 276061.9688 - mse: 276044.4688\n",
      "Epoch 19/30\n",
      "1365/1365 [==============================] - 5s 3ms/step - loss: 276019.8438 - mse: 276002.3125A: 1s - loss: 27\n",
      "Epoch 20/30\n",
      "1365/1365 [==============================] - 5s 4ms/step - loss: 276010.5625 - mse: 275992.9688A: 0s - loss: 275725.4062 - mse\n",
      "Epoch 21/30\n",
      "1365/1365 [==============================] - 5s 3ms/step - loss: 275957.8438 - mse: 275940.0000\n",
      "Epoch 22/30\n",
      "1365/1365 [==============================] - 5s 4ms/step - loss: 275961.1875 - mse: 275942.5938\n",
      "Epoch 23/30\n",
      "1365/1365 [==============================] - 5s 3ms/step - loss: 275903.1250 - mse: 275884.9062\n",
      "Epoch 24/30\n",
      "1365/1365 [==============================] - 5s 3ms/step - loss: 275905.3750 - mse: 275886.8750\n",
      "Epoch 25/30\n",
      "1365/1365 [==============================] - 5s 3ms/step - loss: 275898.7812 - mse: 275880.0625\n",
      "Epoch 26/30\n",
      "1365/1365 [==============================] - 5s 4ms/step - loss: 275837.8438 - mse: 275819.1250A: 1s - loss: 276092.1\n",
      "Epoch 27/30\n",
      "1365/1365 [==============================] - 5s 3ms/step - loss: 275804.7500 - mse: 275785.8750\n",
      "Epoch 28/30\n",
      "1365/1365 [==============================] - 5s 4ms/step - loss: 275800.3438 - mse: 275781.1250A: 2s - loss: 2 - ETA: 0s - loss: 275748.8438 - mse\n",
      "Epoch 29/30\n",
      "1365/1365 [==============================] - 5s 3ms/step - loss: 275802.2188 - mse: 275782.9375\n",
      "Epoch 30/30\n",
      "1365/1365 [==============================] - 5s 4ms/step - loss: 275745.4375 - mse: 275725.7500\n"
     ]
    }
   ],
   "source": [
    "# Regularize the model with L1\n",
    "# Initialize a sequential model\n",
    "model4 = Sequential()\n",
    "\n",
    "# Five layers with relu activation\n",
    "model4.add(layers.Dense(20, input_dim=1000, kernel_regularizer=regularizers.l1(0.01), activation='relu'))\n",
    "model4.add(layers.Dense(20, activation='relu'))\n",
    "model4.add(layers.Dense(10, activation='relu'))\n",
    "model4.add(layers.Dense(10, activation='relu'))\n",
    "model4.add(layers.Dense(10, activation='relu'))\n",
    "model4.add(layers.Dense(1, activation='relu'))\n",
    "\n",
    "#compile the keras model\n",
    "model4.compile(loss='mean_squared_error', optimizer='adam', metrics=['mse'])\n",
    "\n",
    "#fit the keras model on the dataset\n",
    "nn_model4 = model4.fit(X_train_vectorized, y_train, epochs=30, batch_size=200)"
   ]
  },
  {
   "cell_type": "code",
   "execution_count": 47,
   "metadata": {},
   "outputs": [
    {
     "data": {
      "text/plain": [
       "525.095943614117"
      ]
     },
     "execution_count": 47,
     "metadata": {},
     "output_type": "execute_result"
    }
   ],
   "source": [
    "mse4= nn_model4.history['mse'][-1]\n",
    "rmse4 = math.sqrt(mse4)\n",
    "rmse4"
   ]
  },
  {
   "cell_type": "code",
   "execution_count": 66,
   "metadata": {},
   "outputs": [],
   "source": [
    "#Cross-validation\n",
    "\n",
    "# Define a function that returns a compiled Keras model \n",
    "def create_regularized_model():\n",
    "    final_model = Sequential()\n",
    "    #input with dropout\n",
    "    final_model.add(layers.Dense(20, input_dim=1000, kernel_regularizer=regularizers.l1(0.01), activation='relu'))\n",
    "    final_model.add(Dropout(0.5))\n",
    "    final_model.add(layers.Dense(20, activation='relu'))\n",
    "    final_model.add(layers.Dense(10, activation='relu'))\n",
    "    final_model.add(Dropout(0.3))\n",
    "    final_model.add(layers.Dense(10, activation='relu'))\n",
    "    final_model.add(layers.Dense(10, activation='relu'))\n",
    "    #output layer\n",
    "    final_model.add(layers.Dense(1, activation='relu'))\n",
    "\n",
    "    # Compile the model\n",
    "    final_model.compile(optimizer='adam', \n",
    "                  loss='mean_squared_error',  \n",
    "                  metrics=['mse']) \n",
    "    \n",
    "    # Return the compiled model\n",
    "    return final_model\n"
   ]
  },
  {
   "cell_type": "code",
   "execution_count": 67,
   "metadata": {},
   "outputs": [],
   "source": [
    "keras_wrapper = KerasRegressor(create_regularized_model,  \n",
    "                                 epochs=40, \n",
    "                                 batch_size=250)"
   ]
  },
  {
   "cell_type": "code",
   "execution_count": null,
   "metadata": {},
   "outputs": [],
   "source": [
    "final_model_cv = cross_val_score(keras_wrapper, X_train_vectorized, y_train, cv=5, scoring='neg_root_mean_squared_error')"
   ]
  },
  {
   "cell_type": "code",
   "execution_count": 148,
   "metadata": {},
   "outputs": [
    {
     "data": {
      "text/plain": [
       "array([-581.73550623, -564.73665779, -581.96691048, -574.5481849 ,\n",
       "       -587.00193984])"
      ]
     },
     "execution_count": 148,
     "metadata": {},
     "output_type": "execute_result"
    }
   ],
   "source": [
    "final_model_cv"
   ]
  },
  {
   "cell_type": "code",
   "execution_count": 70,
   "metadata": {},
   "outputs": [
    {
     "name": "stdout",
     "output_type": "stream",
     "text": [
      "Tuned Neural Network: 577.9978398468159\n"
     ]
    }
   ],
   "source": [
    "print(\"Tuned Neural Network:\", -(final_model_cv.mean()))"
   ]
  },
  {
   "cell_type": "markdown",
   "metadata": {},
   "source": [
    "### Word2Vec"
   ]
  },
  {
   "cell_type": "code",
   "execution_count": 74,
   "metadata": {},
   "outputs": [],
   "source": [
    "#tokenize 'answer'\n",
    "\n",
    "tokenized = df['answer'].apply(word_tokenize)"
   ]
  },
  {
   "cell_type": "code",
   "execution_count": 75,
   "metadata": {},
   "outputs": [
    {
     "data": {
      "text/plain": [
       "0           [river, mentioned, most, often, in, the, bible]\n",
       "1                               [scottish, word, for, lake]\n",
       "3         [american, river, only, miles, shorter, than, ...\n",
       "4         [worlds, largest, lake, nearly, times, as, big...\n",
       "5                           [marconis, wonderful, wireless]\n",
       "                                ...                        \n",
       "389438    [in, a, moveable, feast, gertrude, stein, is, ...\n",
       "389440    [this, hefty, noisemaker, from, whitechapel, f...\n",
       "389441    [around, years, ago, the, first, foundries, in...\n",
       "389442    [several, different, foundries, worked, for, m...\n",
       "389443    [once, one, of, the, largest, of, its, kind, t...\n",
       "Name: answer, Length: 363765, dtype: object"
      ]
     },
     "execution_count": 75,
     "metadata": {},
     "output_type": "execute_result"
    }
   ],
   "source": [
    "tokenized"
   ]
  },
  {
   "cell_type": "code",
   "execution_count": 86,
   "metadata": {},
   "outputs": [],
   "source": [
    "w2vmodel = Word2Vec(tokenized, size=100, window=5, min_count=1, workers=4, iter=10)"
   ]
  },
  {
   "cell_type": "code",
   "execution_count": 87,
   "metadata": {},
   "outputs": [
    {
     "data": {
      "text/plain": [
       "(38738956, 50653710)"
      ]
     },
     "execution_count": 87,
     "metadata": {},
     "output_type": "execute_result"
    }
   ],
   "source": [
    "w2vmodel.train(tokenized, total_examples=len(tokenized), epochs=10)"
   ]
  },
  {
   "cell_type": "code",
   "execution_count": 79,
   "metadata": {},
   "outputs": [],
   "source": [
    "wv = w2vmodel.wv"
   ]
  },
  {
   "cell_type": "code",
   "execution_count": 81,
   "metadata": {},
   "outputs": [
    {
     "data": {
      "text/plain": [
       "[('nation', 0.8810443878173828),\n",
       " ('countrys', 0.7747315764427185),\n",
       " ('principality', 0.718066930770874),\n",
       " ('indonesia', 0.6102851629257202),\n",
       " ('countries', 0.6091282367706299),\n",
       " ('continent', 0.6060956120491028),\n",
       " ('russia', 0.5940225124359131),\n",
       " ('bangladesh', 0.5931873321533203),\n",
       " ('argentina', 0.5926915407180786),\n",
       " ('republic', 0.5861740112304688)]"
      ]
     },
     "execution_count": 81,
     "metadata": {},
     "output_type": "execute_result"
    }
   ],
   "source": [
    "wv.most_similar('country')"
   ]
  },
  {
   "cell_type": "code",
   "execution_count": 82,
   "metadata": {},
   "outputs": [
    {
     "data": {
      "text/plain": [
       "[('stknown', 0.4022177457809448),\n",
       " ('bes', 0.3532249927520752),\n",
       " ('batsmen', 0.3379046320915222),\n",
       " ('saves', 0.33647051453590393),\n",
       " ('salicacaea', 0.32628530263900757),\n",
       " ('glioblastoma', 0.3245869278907776),\n",
       " ('exnewark', 0.32065364718437195),\n",
       " ('estradas', 0.3203223943710327),\n",
       " ('craque', 0.3197833299636841),\n",
       " ('theophobia', 0.3172198534011841)]"
      ]
     },
     "execution_count": 82,
     "metadata": {},
     "output_type": "execute_result"
    }
   ],
   "source": [
    "wv.most_similar(negative='country')"
   ]
  },
  {
   "cell_type": "code",
   "execution_count": 83,
   "metadata": {},
   "outputs": [
    {
     "data": {
      "text/plain": [
       "array([-1.1732417 , -1.092652  ,  1.9310663 ,  2.670278  , -2.4210997 ,\n",
       "       -1.9440615 , -2.8583856 ,  1.4297415 , -3.9146125 ,  0.6645222 ,\n",
       "        0.87939715, -0.4346849 , -0.60510343, -0.3138128 , -2.6317434 ,\n",
       "       -1.3927189 , -1.9457544 , -3.0070293 , -0.04234415,  0.02467284,\n",
       "        2.009331  ,  1.357879  , -1.6477319 ,  3.2832422 , -0.15213116,\n",
       "        1.6059175 ,  1.3091185 ,  2.2487314 ,  2.494543  ,  1.8642259 ,\n",
       "       -0.35923937, -0.21097818,  1.8152705 ,  1.2921487 , -3.3907576 ,\n",
       "       -1.7424827 ,  2.145915  , -0.05540544, -4.339787  ,  0.7749685 ,\n",
       "       -0.84890854, -0.5143489 ,  2.6634572 ,  1.7661538 , -0.64897877,\n",
       "        1.395602  , -0.6383244 ,  1.0750706 , -2.6053262 ,  4.6854258 ,\n",
       "        0.0555011 ,  2.4505422 ,  0.5977148 ,  0.254285  ,  0.5193539 ,\n",
       "        1.5313287 , -2.001353  , -1.6900654 ,  2.4854443 , -2.8772576 ,\n",
       "        1.142267  , -3.9691088 ,  1.5774624 ,  0.4371305 , -0.43054947,\n",
       "        2.6944664 ,  1.7391654 ,  0.30740216, -2.875991  ,  0.9099064 ,\n",
       "        3.2159555 , -1.3543816 , -0.71022385,  2.1503541 ,  0.41230175,\n",
       "       -3.8245127 , -0.8297773 ,  0.68004775, -1.7478507 ,  2.9234724 ,\n",
       "       -0.70696616, -2.4166365 , -1.5954118 ,  2.9433532 ,  1.3228095 ,\n",
       "       -0.95934945,  2.0854502 ,  2.2657545 , -1.6776463 , -1.8029782 ,\n",
       "        0.246224  , -2.489682  , -0.14800943, -1.8057356 ,  1.4796109 ,\n",
       "       -0.16364688,  2.6168246 ,  0.90491515, -1.5189422 ,  0.40541142],\n",
       "      dtype=float32)"
      ]
     },
     "execution_count": 83,
     "metadata": {},
     "output_type": "execute_result"
    }
   ],
   "source": [
    "wv['country']"
   ]
  },
  {
   "cell_type": "code",
   "execution_count": 84,
   "metadata": {},
   "outputs": [
    {
     "data": {
      "text/plain": [
       "[('rivers', 0.7299462556838989),\n",
       " ('tributary', 0.6572579145431519),\n",
       " ('strait', 0.6502716541290283),\n",
       " ('danube', 0.6361282467842102),\n",
       " ('waterway', 0.6324263215065002),\n",
       " ('lake', 0.6268600225448608),\n",
       " ('canal', 0.6101161241531372),\n",
       " ('bridge', 0.5968207120895386),\n",
       " ('gorge', 0.594094455242157),\n",
       " ('border', 0.5905065536499023)]"
      ]
     },
     "execution_count": 84,
     "metadata": {},
     "output_type": "execute_result"
    }
   ],
   "source": [
    "wv.most_similar('river')"
   ]
  },
  {
   "cell_type": "code",
   "execution_count": 85,
   "metadata": {},
   "outputs": [
    {
     "data": {
      "text/plain": [
       "0.23636743"
      ]
     },
     "execution_count": 85,
     "metadata": {},
     "output_type": "execute_result"
    }
   ],
   "source": [
    "wv.similarity(w1='country', w2='river')"
   ]
  },
  {
   "cell_type": "code",
   "execution_count": 93,
   "metadata": {},
   "outputs": [],
   "source": [
    "total_vocabulary = set(word for answer in tokenized for word in answer)"
   ]
  },
  {
   "cell_type": "code",
   "execution_count": 95,
   "metadata": {},
   "outputs": [
    {
     "name": "stdout",
     "output_type": "stream",
     "text": [
      "There are 130873 unique tokens in the dataset.\n"
     ]
    }
   ],
   "source": [
    "print('There are {} unique tokens in the dataset.'.format(len(total_vocabulary)))"
   ]
  },
  {
   "cell_type": "code",
   "execution_count": 101,
   "metadata": {},
   "outputs": [],
   "source": [
    "glove = {}\n",
    "with open('glove.6B.50d.txt', 'rb') as f:\n",
    "    for line in f:\n",
    "        parts = line.split()\n",
    "        word = parts[0].decode('utf-8')\n",
    "        if word in total_vocabulary:\n",
    "            vector = np.array(parts[1:], dtype=np.float32)\n",
    "            glove[word] = vector"
   ]
  },
  {
   "cell_type": "code",
   "execution_count": 102,
   "metadata": {},
   "outputs": [
    {
     "data": {
      "text/plain": [
       "array([-0.13531  ,  0.15485  , -0.07309  ,  0.034013 , -0.054457 ,\n",
       "       -0.20541  , -0.60086  , -0.22407  ,  0.42615  ,  0.0418   ,\n",
       "        0.1217   , -0.55817  , -0.08953  ,  0.0089426,  0.59164  ,\n",
       "        0.34329  ,  0.64798  ,  0.30052  ,  0.48494  ,  0.16524  ,\n",
       "       -0.073664 ,  0.31182  , -0.083803 ,  0.27026  ,  0.10724  ,\n",
       "       -1.7704   , -0.36235  , -0.15811  ,  0.060038 ,  0.67873  ,\n",
       "        4.0124   ,  0.43091  , -0.26325  ,  0.0561   , -0.40052  ,\n",
       "       -0.088487 , -0.55339  , -0.17892  , -0.57372  , -0.19628  ,\n",
       "       -1.1624   ,  0.12145  ,  0.55842  , -0.6194   , -0.20974  ,\n",
       "        0.49895  , -1.0743   , -0.028168 , -0.18904  , -0.6769   ],\n",
       "      dtype=float32)"
      ]
     },
     "execution_count": 102,
     "metadata": {},
     "output_type": "execute_result"
    }
   ],
   "source": [
    "glove['country']"
   ]
  },
  {
   "cell_type": "code",
   "execution_count": null,
   "metadata": {},
   "outputs": [],
   "source": [
    "# Turn dict into a DataFrame\n",
    "df_wordvec = pd.DataFrame.from_dict(glove, orient='index')"
   ]
  },
  {
   "cell_type": "code",
   "execution_count": 151,
   "metadata": {},
   "outputs": [
    {
     "data": {
      "text/html": [
       "<div>\n",
       "<style scoped>\n",
       "    .dataframe tbody tr th:only-of-type {\n",
       "        vertical-align: middle;\n",
       "    }\n",
       "\n",
       "    .dataframe tbody tr th {\n",
       "        vertical-align: top;\n",
       "    }\n",
       "\n",
       "    .dataframe thead th {\n",
       "        text-align: right;\n",
       "    }\n",
       "</style>\n",
       "<table border=\"1\" class=\"dataframe\">\n",
       "  <thead>\n",
       "    <tr style=\"text-align: right;\">\n",
       "      <th></th>\n",
       "      <th>0</th>\n",
       "      <th>1</th>\n",
       "      <th>2</th>\n",
       "      <th>3</th>\n",
       "      <th>4</th>\n",
       "      <th>5</th>\n",
       "      <th>6</th>\n",
       "      <th>7</th>\n",
       "      <th>8</th>\n",
       "      <th>9</th>\n",
       "      <th>...</th>\n",
       "      <th>40</th>\n",
       "      <th>41</th>\n",
       "      <th>42</th>\n",
       "      <th>43</th>\n",
       "      <th>44</th>\n",
       "      <th>45</th>\n",
       "      <th>46</th>\n",
       "      <th>47</th>\n",
       "      <th>48</th>\n",
       "      <th>49</th>\n",
       "    </tr>\n",
       "  </thead>\n",
       "  <tbody>\n",
       "    <tr>\n",
       "      <th>nation</th>\n",
       "      <td>-0.35684</td>\n",
       "      <td>-0.13894</td>\n",
       "      <td>0.19550</td>\n",
       "      <td>0.34299</td>\n",
       "      <td>0.3854</td>\n",
       "      <td>-0.15348</td>\n",
       "      <td>-0.48022</td>\n",
       "      <td>-0.067447</td>\n",
       "      <td>0.72109</td>\n",
       "      <td>-0.16910</td>\n",
       "      <td>...</td>\n",
       "      <td>-1.44400</td>\n",
       "      <td>0.023356</td>\n",
       "      <td>0.50638</td>\n",
       "      <td>-0.125110</td>\n",
       "      <td>-0.518890</td>\n",
       "      <td>1.24990</td>\n",
       "      <td>-0.98970</td>\n",
       "      <td>0.242250</td>\n",
       "      <td>-0.38662</td>\n",
       "      <td>-0.57629</td>\n",
       "    </tr>\n",
       "    <tr>\n",
       "      <th>a</th>\n",
       "      <td>0.21705</td>\n",
       "      <td>0.46515</td>\n",
       "      <td>-0.46757</td>\n",
       "      <td>0.10082</td>\n",
       "      <td>1.0135</td>\n",
       "      <td>0.74845</td>\n",
       "      <td>-0.53104</td>\n",
       "      <td>-0.262560</td>\n",
       "      <td>0.16812</td>\n",
       "      <td>0.13182</td>\n",
       "      <td>...</td>\n",
       "      <td>0.13813</td>\n",
       "      <td>0.369730</td>\n",
       "      <td>-0.64289</td>\n",
       "      <td>0.024142</td>\n",
       "      <td>-0.039315</td>\n",
       "      <td>-0.26037</td>\n",
       "      <td>0.12017</td>\n",
       "      <td>-0.043782</td>\n",
       "      <td>0.41013</td>\n",
       "      <td>0.17960</td>\n",
       "    </tr>\n",
       "  </tbody>\n",
       "</table>\n",
       "<p>2 rows × 50 columns</p>\n",
       "</div>"
      ],
      "text/plain": [
       "             0        1        2        3       4        5        6   \\\n",
       "nation -0.35684 -0.13894  0.19550  0.34299  0.3854 -0.15348 -0.48022   \n",
       "a       0.21705  0.46515 -0.46757  0.10082  1.0135  0.74845 -0.53104   \n",
       "\n",
       "              7        8        9   ...       40        41       42        43  \\\n",
       "nation -0.067447  0.72109 -0.16910  ... -1.44400  0.023356  0.50638 -0.125110   \n",
       "a      -0.262560  0.16812  0.13182  ...  0.13813  0.369730 -0.64289  0.024142   \n",
       "\n",
       "              44       45       46        47       48       49  \n",
       "nation -0.518890  1.24990 -0.98970  0.242250 -0.38662 -0.57629  \n",
       "a      -0.039315 -0.26037  0.12017 -0.043782  0.41013  0.17960  \n",
       "\n",
       "[2 rows x 50 columns]"
      ]
     },
     "execution_count": 151,
     "metadata": {},
     "output_type": "execute_result"
    }
   ],
   "source": [
    "df_wordvec.loc[['nation','a']]"
   ]
  },
  {
   "cell_type": "code",
   "execution_count": 123,
   "metadata": {},
   "outputs": [],
   "source": [
    "# Initialize t-SNE\n",
    "tsne = TSNE(n_components = 3, init = 'random', random_state = 10, perplexity = 100)\n",
    "\n",
    "# Use only 400 rows to shorten processing time\n",
    "tsne_df = tsne.fit_transform(df_wordvec[:1000])"
   ]
  },
  {
   "cell_type": "code",
   "execution_count": 133,
   "metadata": {},
   "outputs": [
    {
     "data": {
      "text/plain": [
       "Index(['the', 'of', 'to', 'and', 'in', 'a', 'for', 'that', 'on', 'is'], dtype='object')"
      ]
     },
     "execution_count": 133,
     "metadata": {},
     "output_type": "execute_result"
    }
   ],
   "source": [
    "df_wordvec.index[:10]"
   ]
  },
  {
   "cell_type": "code",
   "execution_count": 139,
   "metadata": {},
   "outputs": [
    {
     "name": "stderr",
     "output_type": "stream",
     "text": [
      "No handles with labels found to put in legend.\n"
     ]
    },
    {
     "data": {
      "image/png": "[encoded data removed]",
      "text/plain": [
       "<Figure size 1440x720 with 1 Axes>"
      ]
     },
     "metadata": {},
     "output_type": "display_data"
    }
   ],
   "source": [
    "k3_x = [i[0] for i in tsne_df]\n",
    "k3_y = [i[1] for i in tsne_df]\n",
    "k3_z = [i[2] for i in tsne_df]\n",
    "\n",
    "\n",
    "fig = plt.figure(figsize=(20,10))\n",
    "ax = fig.add_subplot(111, projection='3d')\n",
    "ax.scatter(k3_x, k3_y, k3_z, c='b', s=60)\n",
    "\n",
    "ax.view_init(30, 10)\n",
    "ax.legend()\n",
    "plt.show();"
   ]
  },
  {
   "cell_type": "code",
   "execution_count": 125,
   "metadata": {},
   "outputs": [
    {
     "name": "stderr",
     "output_type": "stream",
     "text": [
      "No handles with labels found to put in legend.\n"
     ]
    },
    {
     "data": {
      "image/png": "[encoded data removed]",
      "text/plain": [
       "<Figure size 1440x720 with 1 Axes>"
      ]
     },
     "metadata": {},
     "output_type": "display_data"
    }
   ],
   "source": [
    "k2_x = [i[0] for i in tsne_df]\n",
    "k2_y = [i[1] for i in tsne_df]\n",
    "\n",
    "fig = plt.figure(figsize=(20,10))\n",
    "ax = fig.add_subplot(222)\n",
    "ax.scatter(k2_x, k2_y, c='b')\n",
    "ax.legend()\n",
    "plt.show()"
   ]
  },
  {
   "cell_type": "code",
   "execution_count": 140,
   "metadata": {},
   "outputs": [],
   "source": [
    "class W2vVectorizer(object):\n",
    "    \n",
    "    def __init__(self, w2v):\n",
    "        # Takes in a dictionary of words and vectors as input\n",
    "        self.w2v = w2v\n",
    "        if len(w2v) == 0:\n",
    "            self.dimensions = 0\n",
    "        else:\n",
    "            self.dimensions = len(w2v[next(iter(glove))])\n",
    "    \n",
    "    # Note: Even though it doesn't do anything, it's required that this object implement a fit method or else\n",
    "    # it can't be used in a scikit-learn pipeline  \n",
    "    def fit(self, X, y):\n",
    "        return self\n",
    "            \n",
    "    def transform(self, X):\n",
    "        return np.array([\n",
    "            np.mean([self.w2v[w] for w in words if w in self.w2v]\n",
    "                   or [np.zeros(self.dimensions)], axis=0) for words in X])"
   ]
  },
  {
   "cell_type": "code",
   "execution_count": 143,
   "metadata": {},
   "outputs": [],
   "source": [
    "rf =  Pipeline([('Word2Vec Vectorizer', W2vVectorizer(glove)),\n",
    "              ('Random Forest', RandomForestRegressor(max_depth=15, n_estimators=100, min_samples_split=4, min_samples_leaf=1, max_features='auto', bootstrap=True))])\n",
    "svr = Pipeline([('Word2Vec Vectorizer', W2vVectorizer(glove)),\n",
    "                ('Linear SVR', LinearSVR(loss='squared_epsilon_insensitive', C=.1, verbose = 10))])\n",
    "rr = Pipeline([('Word2Vec Vectorizer', W2vVectorizer(glove)),\n",
    "              ('Ridge Regression', Ridge(alpha=.8))])"
   ]
  },
  {
   "cell_type": "code",
   "execution_count": 144,
   "metadata": {},
   "outputs": [],
   "source": [
    "models = [('Random Forest', rf),\n",
    "          ('Support Vector Regression', svr),\n",
    "          ('Ridge Regression', rr)]"
   ]
  },
  {
   "cell_type": "code",
   "execution_count": 146,
   "metadata": {},
   "outputs": [
    {
     "name": "stdout",
     "output_type": "stream",
     "text": [
      "[LibLinear][LibLinear]"
     ]
    }
   ],
   "source": [
    "scores = [(name, cross_val_score(model, tokenized, df.value, cv=2, scoring='neg_root_mean_squared_error').mean()) for name, model, in models]"
   ]
  },
  {
   "cell_type": "code",
   "execution_count": 147,
   "metadata": {},
   "outputs": [
    {
     "data": {
      "text/plain": [
       "[('Random Forest', -527.5605478510056),\n",
       " ('Support Vector Regression', -527.7818712630549),\n",
       " ('Ridge Regression', -527.7832263802836)]"
      ]
     },
     "execution_count": 147,
     "metadata": {},
     "output_type": "execute_result"
    }
   ],
   "source": [
    "scores"
   ]
  },
  {
   "cell_type": "markdown",
   "metadata": {},
   "source": [
    "### Doc2Vec"
   ]
  },
  {
   "cell_type": "code",
   "execution_count": 155,
   "metadata": {},
   "outputs": [],
   "source": [
    "class Doc2Vectorizer(object):\n",
    "    \n",
    "    def __init__(self, d2v):\n",
    "        # Takes in a dictionary of words and vectors as input\n",
    "        self.d2v = d2v\n",
    "        if len(d2v) == 0:\n",
    "            self.dimensions = 0\n",
    "        else:\n",
    "            self.dimensions = len(d2v[next(iter(glove))])\n",
    "    \n",
    "    # Note: Even though it doesn't do anything, it's required that this object implement a fit method or else\n",
    "    # it can't be used in a scikit-learn pipeline  \n",
    "    def fit(self, X, y):\n",
    "        return self\n",
    "            \n",
    "    def transform(self, X):\n",
    "        return np.array([\n",
    "            np.mean([self.d2v[w] for w in words if w in self.d2v]\n",
    "                   or [np.zeros(self.dimensions)], axis=0) for words in X])"
   ]
  },
  {
   "cell_type": "code",
   "execution_count": null,
   "metadata": {},
   "outputs": [],
   "source": [
    "rf_doc2vec =  Pipeline([('Doc2Vec Vectorizer', Doc2Vectorizer(glove)),\n",
    "              ('Random Forest', RandomForestRegressor(max_depth=15, n_estimators=100, min_samples_split=4, min_samples_leaf=1, max_features='auto', bootstrap=True))])"
   ]
  },
  {
   "cell_type": "code",
   "execution_count": null,
   "metadata": {},
   "outputs": [],
   "source": [
    "svr_doc2vec= Pipeline([('Doc2Vec Vectorizer', Doc2Vectorizer(glove)),\n",
    "                ('Linear SVR', LinearSVR(loss='squared_epsilon_insensitive', C=.1, verbose = 10))])\n",
    "rr_doc2vec = Pipeline([('Doc2Vec Vectorizer', Doc2Vectorizer(glove)),\n",
    "              ('Ridge Regression', Ridge(alpha=.8))])"
   ]
  },
  {
   "cell_type": "code",
   "execution_count": 17,
   "metadata": {},
   "outputs": [],
   "source": [
    "train, test = train_test_split(df, test_size=.30, random_state=54)"
   ]
  },
  {
   "cell_type": "code",
   "execution_count": 18,
   "metadata": {},
   "outputs": [],
   "source": [
    "#Tag train set\n",
    "tagged_tr = [TaggedDocument(words=word_tokenize(_d.lower()),\n",
    "tags=[str(i)]) for i, _d in enumerate(train.answer)]\n",
    "#Tag test set\n",
    "tagged_test = [TaggedDocument(words=word_tokenize(_d.lower()),\n",
    "tags=[str(i)]) for i, _d in enumerate(test.answer)]"
   ]
  },
  {
   "cell_type": "code",
   "execution_count": 19,
   "metadata": {},
   "outputs": [],
   "source": [
    "model = Doc2Vec(vector_size=100,\n",
    "                window=5, \n",
    "                alpha=.025, \n",
    "                min_alpha=0.00025, \n",
    "                min_count=2, \n",
    "                dm=1, \n",
    "                workers=8,\n",
    "                epochs=40)\n",
    "model.build_vocab(tagged_tr)"
   ]
  },
  {
   "cell_type": "code",
   "execution_count": 20,
   "metadata": {},
   "outputs": [
    {
     "name": "stdout",
     "output_type": "stream",
     "text": [
      "Word 'country' appeared 5400 times in the training corpus.\n"
     ]
    }
   ],
   "source": [
    "print(f\"Word 'country' appeared {model.wv.get_vecattr('country', 'count')} times in the training corpus.\")"
   ]
  },
  {
   "cell_type": "code",
   "execution_count": 22,
   "metadata": {},
   "outputs": [],
   "source": [
    "model.train(tagged_tr, total_examples=model.corpus_count, epochs=model.epochs)"
   ]
  },
  {
   "cell_type": "code",
   "execution_count": 25,
   "metadata": {},
   "outputs": [],
   "source": [
    "# Extract training vectors:\n",
    "X_train = np.array([model.dv[str(i)] for i in range(len(tagged_tr))])\n",
    "y_train = train['value']"
   ]
  },
  {
   "cell_type": "code",
   "execution_count": 24,
   "metadata": {},
   "outputs": [],
   "source": [
    "#Use ‘infer_vector’ to generate vectors for the test set:\n",
    "X_test = np.array([model.infer_vector(tagged_test[i][0]) for i in range(len(tagged_test))])\n",
    "y_test = test['value']"
   ]
  },
  {
   "cell_type": "code",
   "execution_count": 40,
   "metadata": {},
   "outputs": [],
   "source": [
    "lr = LinearRegression()\n",
    "lr_cv = cross_val_score(lr, X_train, y_train, cv=5, scoring='neg_root_mean_squared_error')"
   ]
  },
  {
   "cell_type": "code",
   "execution_count": 41,
   "metadata": {},
   "outputs": [
    {
     "data": {
      "text/plain": [
       "array([-527.02504389, -528.20131526, -527.73603727, -530.20844538,\n",
       "       -528.19925047])"
      ]
     },
     "execution_count": 41,
     "metadata": {},
     "output_type": "execute_result"
    }
   ],
   "source": [
    "lr_cv"
   ]
  },
  {
   "cell_type": "code",
   "execution_count": 42,
   "metadata": {},
   "outputs": [
    {
     "data": {
      "text/plain": [
       "-528.2740184534189"
      ]
     },
     "execution_count": 42,
     "metadata": {},
     "output_type": "execute_result"
    }
   ],
   "source": [
    "lr_cv.mean()"
   ]
  },
  {
   "cell_type": "code",
   "execution_count": 29,
   "metadata": {},
   "outputs": [],
   "source": [
    "rf = RandomForestRegressor(max_depth=15, n_estimators=100, min_samples_split=4, min_samples_leaf=1, max_features='auto', bootstrap=True)\n",
    "rf_cv = cross_val_score(rf, X_train, y_train, cv=2, scoring='neg_root_mean_squared_error')"
   ]
  },
  {
   "cell_type": "code",
   "execution_count": 30,
   "metadata": {},
   "outputs": [
    {
     "data": {
      "text/plain": [
       "array([-529.78915515, -531.31147666])"
      ]
     },
     "execution_count": 30,
     "metadata": {},
     "output_type": "execute_result"
    }
   ],
   "source": [
    "rf_cv"
   ]
  },
  {
   "cell_type": "code",
   "execution_count": 34,
   "metadata": {},
   "outputs": [
    {
     "name": "stdout",
     "output_type": "stream",
     "text": [
      "[LibLinear][LibLinear][LibLinear][LibLinear][LibLinear]"
     ]
    }
   ],
   "source": [
    "linear_SVR_regressor_verbose = LinearSVR(loss='squared_epsilon_insensitive', C=.1, verbose = 10)\n",
    "ln_SVR_cv = cross_val_score(linear_SVR_regressor_verbose, X_train, y_train, cv=5, scoring='neg_root_mean_squared_error')"
   ]
  },
  {
   "cell_type": "code",
   "execution_count": 35,
   "metadata": {},
   "outputs": [
    {
     "data": {
      "text/plain": [
       "array([-527.02492519, -528.20191847, -527.73534852, -530.20764363,\n",
       "       -528.19906082])"
      ]
     },
     "execution_count": 35,
     "metadata": {},
     "output_type": "execute_result"
    }
   ],
   "source": [
    "ln_SVR_cv"
   ]
  },
  {
   "cell_type": "code",
   "execution_count": 39,
   "metadata": {},
   "outputs": [
    {
     "data": {
      "text/plain": [
       "-528.2737793267345"
      ]
     },
     "execution_count": 39,
     "metadata": {},
     "output_type": "execute_result"
    }
   ],
   "source": [
    "ln_SVR_cv.mean()"
   ]
  },
  {
   "cell_type": "code",
   "execution_count": 43,
   "metadata": {},
   "outputs": [],
   "source": [
    "rr = Ridge(alpha=.8)\n",
    "rr_cv = cross_val_score(rr, X_train, y_train, cv=5, scoring='neg_root_mean_squared_error')"
   ]
  },
  {
   "cell_type": "code",
   "execution_count": 44,
   "metadata": {},
   "outputs": [
    {
     "data": {
      "text/plain": [
       "array([-527.02503902, -528.20129066, -527.73604479, -530.20835892,\n",
       "       -528.19922159])"
      ]
     },
     "execution_count": 44,
     "metadata": {},
     "output_type": "execute_result"
    }
   ],
   "source": [
    "rr_cv"
   ]
  },
  {
   "cell_type": "code",
   "execution_count": 45,
   "metadata": {},
   "outputs": [
    {
     "data": {
      "text/plain": [
       "-528.2739909939753"
      ]
     },
     "execution_count": 45,
     "metadata": {},
     "output_type": "execute_result"
    }
   ],
   "source": [
    "rr_cv.mean()"
   ]
  }
 ],
 "metadata": {
  "kernelspec": {
   "display_name": "Python (learn-env)",
   "language": "python",
   "name": "learn-env"
  },
  "language_info": {
   "codemirror_mode": {
    "name": "ipython",
    "version": 3
   },
   "file_extension": ".py",
   "mimetype": "text/x-python",
   "name": "python",
   "nbconvert_exporter": "python",
   "pygments_lexer": "ipython3",
   "version": "3.8.5"
  }
 },
 "nbformat": 4,
 "nbformat_minor": 4
}
