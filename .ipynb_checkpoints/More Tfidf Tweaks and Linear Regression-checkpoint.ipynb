{
 "cells": [
  {
   "cell_type": "markdown",
   "metadata": {},
   "source": [
    "## Tweaking Tf-idf Vectorizer"
   ]
  },
  {
   "cell_type": "code",
   "execution_count": 37,
   "metadata": {},
   "outputs": [],
   "source": [
    "import pandas as pd\n",
    "import matplotlib.pyplot as plt\n",
    "import seaborn as sns\n",
    "import joblib\n",
    "import numpy as np"
   ]
  },
  {
   "cell_type": "code",
   "execution_count": 3,
   "metadata": {},
   "outputs": [],
   "source": [
    "from nltk.stem.snowball import SnowballStemmer\n",
    "from nltk.tokenize import word_tokenize\n",
    "from nltk.corpus import stopwords\n",
    "from nltk.stem.wordnet import WordNetLemmatizer"
   ]
  },
  {
   "cell_type": "code",
   "execution_count": 4,
   "metadata": {},
   "outputs": [],
   "source": [
    "from textblob import TextBlob\n",
    "from wordcloud import WordCloud"
   ]
  },
  {
   "cell_type": "code",
   "execution_count": 163,
   "metadata": {},
   "outputs": [],
   "source": [
    "from sklearn.model_selection import train_test_split, cross_val_score\n",
    "from sklearn.linear_model import LinearRegression, ElasticNet, Ridge\n",
    "from sklearn.feature_extraction.text import TfidfVectorizer, CountVectorizer, HashingVectorizer\n",
    "from sklearn.feature_extraction import text\n",
    "from sklearn.naive_bayes import MultinomialNB\n",
    "from sklearn.metrics import confusion_matrix\n",
    "from sklearn.metrics import plot_confusion_matrix\n",
    "from sklearn.metrics import mean_squared_error, r2_score\n",
    "from sklearn.tree import DecisionTreeRegressor\n",
    "from sklearn.ensemble import RandomForestRegressor\n",
    "from sklearn.metrics import make_scorer"
   ]
  },
  {
   "cell_type": "code",
   "execution_count": 6,
   "metadata": {},
   "outputs": [],
   "source": [
    "df = pd.read_csv(\"combined_season1-37.tsv.zip\", delimiter='\\t')"
   ]
  },
  {
   "cell_type": "code",
   "execution_count": 7,
   "metadata": {},
   "outputs": [
    {
     "data": {
      "text/html": [
       "<div>\n",
       "<style scoped>\n",
       "    .dataframe tbody tr th:only-of-type {\n",
       "        vertical-align: middle;\n",
       "    }\n",
       "\n",
       "    .dataframe tbody tr th {\n",
       "        vertical-align: top;\n",
       "    }\n",
       "\n",
       "    .dataframe thead th {\n",
       "        text-align: right;\n",
       "    }\n",
       "</style>\n",
       "<table border=\"1\" class=\"dataframe\">\n",
       "  <thead>\n",
       "    <tr style=\"text-align: right;\">\n",
       "      <th></th>\n",
       "      <th>round</th>\n",
       "      <th>value</th>\n",
       "      <th>daily_double</th>\n",
       "      <th>category</th>\n",
       "      <th>comments</th>\n",
       "      <th>answer</th>\n",
       "      <th>question</th>\n",
       "      <th>air_date</th>\n",
       "      <th>notes</th>\n",
       "    </tr>\n",
       "  </thead>\n",
       "  <tbody>\n",
       "    <tr>\n",
       "      <th>0</th>\n",
       "      <td>1</td>\n",
       "      <td>100</td>\n",
       "      <td>no</td>\n",
       "      <td>LAKES &amp; RIVERS</td>\n",
       "      <td>-</td>\n",
       "      <td>River mentioned most often in the Bible</td>\n",
       "      <td>the Jordan</td>\n",
       "      <td>1984-09-10</td>\n",
       "      <td>-</td>\n",
       "    </tr>\n",
       "    <tr>\n",
       "      <th>1</th>\n",
       "      <td>1</td>\n",
       "      <td>200</td>\n",
       "      <td>no</td>\n",
       "      <td>LAKES &amp; RIVERS</td>\n",
       "      <td>-</td>\n",
       "      <td>Scottish word for lake</td>\n",
       "      <td>loch</td>\n",
       "      <td>1984-09-10</td>\n",
       "      <td>-</td>\n",
       "    </tr>\n",
       "    <tr>\n",
       "      <th>2</th>\n",
       "      <td>1</td>\n",
       "      <td>800</td>\n",
       "      <td>yes</td>\n",
       "      <td>LAKES &amp; RIVERS</td>\n",
       "      <td>-</td>\n",
       "      <td>River in this famous song:</td>\n",
       "      <td>the Volga River</td>\n",
       "      <td>1984-09-10</td>\n",
       "      <td>-</td>\n",
       "    </tr>\n",
       "    <tr>\n",
       "      <th>3</th>\n",
       "      <td>1</td>\n",
       "      <td>400</td>\n",
       "      <td>no</td>\n",
       "      <td>LAKES &amp; RIVERS</td>\n",
       "      <td>-</td>\n",
       "      <td>American river only 33 miles shorter than the ...</td>\n",
       "      <td>the Missouri</td>\n",
       "      <td>1984-09-10</td>\n",
       "      <td>-</td>\n",
       "    </tr>\n",
       "    <tr>\n",
       "      <th>4</th>\n",
       "      <td>1</td>\n",
       "      <td>500</td>\n",
       "      <td>no</td>\n",
       "      <td>LAKES &amp; RIVERS</td>\n",
       "      <td>-</td>\n",
       "      <td>World's largest lake, nearly 5 times as big as...</td>\n",
       "      <td>the Caspian Sea</td>\n",
       "      <td>1984-09-10</td>\n",
       "      <td>-</td>\n",
       "    </tr>\n",
       "    <tr>\n",
       "      <th>...</th>\n",
       "      <td>...</td>\n",
       "      <td>...</td>\n",
       "      <td>...</td>\n",
       "      <td>...</td>\n",
       "      <td>...</td>\n",
       "      <td>...</td>\n",
       "      <td>...</td>\n",
       "      <td>...</td>\n",
       "      <td>...</td>\n",
       "    </tr>\n",
       "    <tr>\n",
       "      <th>389440</th>\n",
       "      <td>2</td>\n",
       "      <td>400</td>\n",
       "      <td>no</td>\n",
       "      <td>FOUNDRY</td>\n",
       "      <td>-</td>\n",
       "      <td>This hefty noisemaker from Whitechapel Foundry...</td>\n",
       "      <td>Big Ben</td>\n",
       "      <td>2021-08-13</td>\n",
       "      <td>-</td>\n",
       "    </tr>\n",
       "    <tr>\n",
       "      <th>389441</th>\n",
       "      <td>2</td>\n",
       "      <td>800</td>\n",
       "      <td>no</td>\n",
       "      <td>FOUNDRY</td>\n",
       "      <td>-</td>\n",
       "      <td>Around 4,000 years ago, the first foundries in...</td>\n",
       "      <td>bronze</td>\n",
       "      <td>2021-08-13</td>\n",
       "      <td>-</td>\n",
       "    </tr>\n",
       "    <tr>\n",
       "      <th>389442</th>\n",
       "      <td>2</td>\n",
       "      <td>1200</td>\n",
       "      <td>no</td>\n",
       "      <td>FOUNDRY</td>\n",
       "      <td>-</td>\n",
       "      <td>Several different foundries worked for 4 month...</td>\n",
       "      <td>Monitor</td>\n",
       "      <td>2021-08-13</td>\n",
       "      <td>-</td>\n",
       "    </tr>\n",
       "    <tr>\n",
       "      <th>389443</th>\n",
       "      <td>2</td>\n",
       "      <td>1600</td>\n",
       "      <td>no</td>\n",
       "      <td>FOUNDRY</td>\n",
       "      <td>-</td>\n",
       "      <td>Once one of the largest of its kind, the Gary ...</td>\n",
       "      <td>U.S. Steel</td>\n",
       "      <td>2021-08-13</td>\n",
       "      <td>-</td>\n",
       "    </tr>\n",
       "    <tr>\n",
       "      <th>389444</th>\n",
       "      <td>3</td>\n",
       "      <td>0</td>\n",
       "      <td>no</td>\n",
       "      <td>19th CENTURY AMERICAN WOMEN</td>\n",
       "      <td>-</td>\n",
       "      <td>2 of the 3 women depicted on the first statue ...</td>\n",
       "      <td>(2 of) (Sojourner) Truth, (Susan B.) Anthony, ...</td>\n",
       "      <td>2021-08-13</td>\n",
       "      <td>-</td>\n",
       "    </tr>\n",
       "  </tbody>\n",
       "</table>\n",
       "<p>389445 rows × 9 columns</p>\n",
       "</div>"
      ],
      "text/plain": [
       "        round  value daily_double                     category comments  \\\n",
       "0           1    100           no               LAKES & RIVERS        -   \n",
       "1           1    200           no               LAKES & RIVERS        -   \n",
       "2           1    800          yes               LAKES & RIVERS        -   \n",
       "3           1    400           no               LAKES & RIVERS        -   \n",
       "4           1    500           no               LAKES & RIVERS        -   \n",
       "...       ...    ...          ...                          ...      ...   \n",
       "389440      2    400           no                      FOUNDRY        -   \n",
       "389441      2    800           no                      FOUNDRY        -   \n",
       "389442      2   1200           no                      FOUNDRY        -   \n",
       "389443      2   1600           no                      FOUNDRY        -   \n",
       "389444      3      0           no  19th CENTURY AMERICAN WOMEN        -   \n",
       "\n",
       "                                                   answer  \\\n",
       "0                 River mentioned most often in the Bible   \n",
       "1                                  Scottish word for lake   \n",
       "2                              River in this famous song:   \n",
       "3       American river only 33 miles shorter than the ...   \n",
       "4       World's largest lake, nearly 5 times as big as...   \n",
       "...                                                   ...   \n",
       "389440  This hefty noisemaker from Whitechapel Foundry...   \n",
       "389441  Around 4,000 years ago, the first foundries in...   \n",
       "389442  Several different foundries worked for 4 month...   \n",
       "389443  Once one of the largest of its kind, the Gary ...   \n",
       "389444  2 of the 3 women depicted on the first statue ...   \n",
       "\n",
       "                                                 question    air_date notes  \n",
       "0                                              the Jordan  1984-09-10     -  \n",
       "1                                                    loch  1984-09-10     -  \n",
       "2                                         the Volga River  1984-09-10     -  \n",
       "3                                            the Missouri  1984-09-10     -  \n",
       "4                                         the Caspian Sea  1984-09-10     -  \n",
       "...                                                   ...         ...   ...  \n",
       "389440                                            Big Ben  2021-08-13     -  \n",
       "389441                                             bronze  2021-08-13     -  \n",
       "389442                                            Monitor  2021-08-13     -  \n",
       "389443                                         U.S. Steel  2021-08-13     -  \n",
       "389444  (2 of) (Sojourner) Truth, (Susan B.) Anthony, ...  2021-08-13     -  \n",
       "\n",
       "[389445 rows x 9 columns]"
      ]
     },
     "execution_count": 7,
     "metadata": {},
     "output_type": "execute_result"
    }
   ],
   "source": [
    "df"
   ]
  },
  {
   "cell_type": "code",
   "execution_count": 8,
   "metadata": {},
   "outputs": [],
   "source": [
    "df['air_date'] = pd.to_datetime(df['air_date'])"
   ]
  },
  {
   "cell_type": "code",
   "execution_count": 9,
   "metadata": {},
   "outputs": [],
   "source": [
    "#On 11/26/2001, the values for the questions doubled for both rounds of Jeopardy. Need to adjust the earlier episodes to have the same values as post-11/26/2001 shows.\n",
    "df.loc[df['air_date'] < '2001-11-26', \"value\"] = df.value * 2"
   ]
  },
  {
   "cell_type": "code",
   "execution_count": 10,
   "metadata": {},
   "outputs": [],
   "source": [
    "#remove Daily Doubles since the contestants can wager any amounts for those\n",
    "df = df[df[\"daily_double\"] != 'yes']"
   ]
  },
  {
   "cell_type": "code",
   "execution_count": 11,
   "metadata": {},
   "outputs": [],
   "source": [
    "#keep only standard values (this will remove Final Jeopardy questions, which do not have a set amount and set are at '0', as well as the handful of non-standard values that are likely typos)\n",
    "df = df.loc[df['value'].isin([200, 400, 600, 800, 1000, 400, 800, 1200, 1600, 2000])]"
   ]
  },
  {
   "cell_type": "markdown",
   "metadata": {},
   "source": [
    "## NLP Data Cleaning"
   ]
  },
  {
   "cell_type": "code",
   "execution_count": 12,
   "metadata": {},
   "outputs": [
    {
     "data": {
      "text/plain": [
       "'!\"#$%&\\'()*+,-./:;<=>?@[\\\\]^_`{|}~'"
      ]
     },
     "execution_count": 12,
     "metadata": {},
     "output_type": "execute_result"
    }
   ],
   "source": [
    "# import string to remove punctuation\n",
    "\n",
    "import string\n",
    "string.punctuation"
   ]
  },
  {
   "cell_type": "code",
   "execution_count": 13,
   "metadata": {},
   "outputs": [],
   "source": [
    "def no_punctuation(text):\n",
    "    nopunct=[words for words in text if words not in string.punctuation]\n",
    "    words_without_punct=''.join(nopunct)\n",
    "    return words_without_punct"
   ]
  },
  {
   "cell_type": "code",
   "execution_count": 14,
   "metadata": {},
   "outputs": [],
   "source": [
    "#remove punctuation and lowercase words in 'category,' 'answer,' and 'question'\n",
    "\n",
    "df['category'] = df['category'].apply(lambda x: no_punctuation(x).lower())\n",
    "df['answer'] = df['answer'].apply(lambda x: no_punctuation(x).lower())\n",
    "df['question'] = df['question'].apply(lambda x: no_punctuation(x).lower())"
   ]
  },
  {
   "cell_type": "code",
   "execution_count": 15,
   "metadata": {},
   "outputs": [],
   "source": [
    "#remove numerals from 'category,' 'answer,' and 'question'\n",
    "\n",
    "df['category'] = df['category'].str.replace('\\d+', '')\n",
    "df['answer'] = df['answer'].str.replace('\\d+', '')\n",
    "df['question'] = df['question'].str.replace('\\d+', '')"
   ]
  },
  {
   "cell_type": "code",
   "execution_count": 16,
   "metadata": {},
   "outputs": [
    {
     "data": {
      "text/html": [
       "<div>\n",
       "<style scoped>\n",
       "    .dataframe tbody tr th:only-of-type {\n",
       "        vertical-align: middle;\n",
       "    }\n",
       "\n",
       "    .dataframe tbody tr th {\n",
       "        vertical-align: top;\n",
       "    }\n",
       "\n",
       "    .dataframe thead th {\n",
       "        text-align: right;\n",
       "    }\n",
       "</style>\n",
       "<table border=\"1\" class=\"dataframe\">\n",
       "  <thead>\n",
       "    <tr style=\"text-align: right;\">\n",
       "      <th></th>\n",
       "      <th>round</th>\n",
       "      <th>value</th>\n",
       "      <th>daily_double</th>\n",
       "      <th>category</th>\n",
       "      <th>comments</th>\n",
       "      <th>answer</th>\n",
       "      <th>question</th>\n",
       "      <th>air_date</th>\n",
       "      <th>notes</th>\n",
       "    </tr>\n",
       "  </thead>\n",
       "  <tbody>\n",
       "    <tr>\n",
       "      <th>0</th>\n",
       "      <td>1</td>\n",
       "      <td>200</td>\n",
       "      <td>no</td>\n",
       "      <td>lakes  rivers</td>\n",
       "      <td>-</td>\n",
       "      <td>river mentioned most often in the bible</td>\n",
       "      <td>the jordan</td>\n",
       "      <td>1984-09-10</td>\n",
       "      <td>-</td>\n",
       "    </tr>\n",
       "    <tr>\n",
       "      <th>1</th>\n",
       "      <td>1</td>\n",
       "      <td>400</td>\n",
       "      <td>no</td>\n",
       "      <td>lakes  rivers</td>\n",
       "      <td>-</td>\n",
       "      <td>scottish word for lake</td>\n",
       "      <td>loch</td>\n",
       "      <td>1984-09-10</td>\n",
       "      <td>-</td>\n",
       "    </tr>\n",
       "    <tr>\n",
       "      <th>3</th>\n",
       "      <td>1</td>\n",
       "      <td>800</td>\n",
       "      <td>no</td>\n",
       "      <td>lakes  rivers</td>\n",
       "      <td>-</td>\n",
       "      <td>american river only  miles shorter than the mi...</td>\n",
       "      <td>the missouri</td>\n",
       "      <td>1984-09-10</td>\n",
       "      <td>-</td>\n",
       "    </tr>\n",
       "    <tr>\n",
       "      <th>4</th>\n",
       "      <td>1</td>\n",
       "      <td>1000</td>\n",
       "      <td>no</td>\n",
       "      <td>lakes  rivers</td>\n",
       "      <td>-</td>\n",
       "      <td>worlds largest lake nearly  times as big as su...</td>\n",
       "      <td>the caspian sea</td>\n",
       "      <td>1984-09-10</td>\n",
       "      <td>-</td>\n",
       "    </tr>\n",
       "    <tr>\n",
       "      <th>5</th>\n",
       "      <td>1</td>\n",
       "      <td>200</td>\n",
       "      <td>no</td>\n",
       "      <td>inventions</td>\n",
       "      <td>-</td>\n",
       "      <td>marconis wonderful wireless</td>\n",
       "      <td>the radio</td>\n",
       "      <td>1984-09-10</td>\n",
       "      <td>-</td>\n",
       "    </tr>\n",
       "    <tr>\n",
       "      <th>...</th>\n",
       "      <td>...</td>\n",
       "      <td>...</td>\n",
       "      <td>...</td>\n",
       "      <td>...</td>\n",
       "      <td>...</td>\n",
       "      <td>...</td>\n",
       "      <td>...</td>\n",
       "      <td>...</td>\n",
       "      <td>...</td>\n",
       "    </tr>\n",
       "    <tr>\n",
       "      <th>389438</th>\n",
       "      <td>2</td>\n",
       "      <td>1600</td>\n",
       "      <td>no</td>\n",
       "      <td>lost</td>\n",
       "      <td>-</td>\n",
       "      <td>in a moveable feast gertrude stein is quoted a...</td>\n",
       "      <td>lost generation</td>\n",
       "      <td>2021-08-13</td>\n",
       "      <td>-</td>\n",
       "    </tr>\n",
       "    <tr>\n",
       "      <th>389440</th>\n",
       "      <td>2</td>\n",
       "      <td>400</td>\n",
       "      <td>no</td>\n",
       "      <td>foundry</td>\n",
       "      <td>-</td>\n",
       "      <td>this hefty noisemaker from whitechapel foundry...</td>\n",
       "      <td>big ben</td>\n",
       "      <td>2021-08-13</td>\n",
       "      <td>-</td>\n",
       "    </tr>\n",
       "    <tr>\n",
       "      <th>389441</th>\n",
       "      <td>2</td>\n",
       "      <td>800</td>\n",
       "      <td>no</td>\n",
       "      <td>foundry</td>\n",
       "      <td>-</td>\n",
       "      <td>around  years ago the first foundries in mesop...</td>\n",
       "      <td>bronze</td>\n",
       "      <td>2021-08-13</td>\n",
       "      <td>-</td>\n",
       "    </tr>\n",
       "    <tr>\n",
       "      <th>389442</th>\n",
       "      <td>2</td>\n",
       "      <td>1200</td>\n",
       "      <td>no</td>\n",
       "      <td>foundry</td>\n",
       "      <td>-</td>\n",
       "      <td>several different foundries worked for  months...</td>\n",
       "      <td>monitor</td>\n",
       "      <td>2021-08-13</td>\n",
       "      <td>-</td>\n",
       "    </tr>\n",
       "    <tr>\n",
       "      <th>389443</th>\n",
       "      <td>2</td>\n",
       "      <td>1600</td>\n",
       "      <td>no</td>\n",
       "      <td>foundry</td>\n",
       "      <td>-</td>\n",
       "      <td>once one of the largest of its kind the gary w...</td>\n",
       "      <td>us steel</td>\n",
       "      <td>2021-08-13</td>\n",
       "      <td>-</td>\n",
       "    </tr>\n",
       "  </tbody>\n",
       "</table>\n",
       "<p>363765 rows × 9 columns</p>\n",
       "</div>"
      ],
      "text/plain": [
       "        round  value daily_double       category comments  \\\n",
       "0           1    200           no  lakes  rivers        -   \n",
       "1           1    400           no  lakes  rivers        -   \n",
       "3           1    800           no  lakes  rivers        -   \n",
       "4           1   1000           no  lakes  rivers        -   \n",
       "5           1    200           no     inventions        -   \n",
       "...       ...    ...          ...            ...      ...   \n",
       "389438      2   1600           no           lost        -   \n",
       "389440      2    400           no        foundry        -   \n",
       "389441      2    800           no        foundry        -   \n",
       "389442      2   1200           no        foundry        -   \n",
       "389443      2   1600           no        foundry        -   \n",
       "\n",
       "                                                   answer         question  \\\n",
       "0                 river mentioned most often in the bible       the jordan   \n",
       "1                                  scottish word for lake             loch   \n",
       "3       american river only  miles shorter than the mi...     the missouri   \n",
       "4       worlds largest lake nearly  times as big as su...  the caspian sea   \n",
       "5                             marconis wonderful wireless        the radio   \n",
       "...                                                   ...              ...   \n",
       "389438  in a moveable feast gertrude stein is quoted a...  lost generation   \n",
       "389440  this hefty noisemaker from whitechapel foundry...          big ben   \n",
       "389441  around  years ago the first foundries in mesop...           bronze   \n",
       "389442  several different foundries worked for  months...          monitor   \n",
       "389443  once one of the largest of its kind the gary w...         us steel   \n",
       "\n",
       "         air_date notes  \n",
       "0      1984-09-10     -  \n",
       "1      1984-09-10     -  \n",
       "3      1984-09-10     -  \n",
       "4      1984-09-10     -  \n",
       "5      1984-09-10     -  \n",
       "...           ...   ...  \n",
       "389438 2021-08-13     -  \n",
       "389440 2021-08-13     -  \n",
       "389441 2021-08-13     -  \n",
       "389442 2021-08-13     -  \n",
       "389443 2021-08-13     -  \n",
       "\n",
       "[363765 rows x 9 columns]"
      ]
     },
     "execution_count": 16,
     "metadata": {},
     "output_type": "execute_result"
    }
   ],
   "source": [
    "df"
   ]
  },
  {
   "cell_type": "markdown",
   "metadata": {},
   "source": [
    "## Figuring out the best Tf-idf Settings"
   ]
  },
  {
   "cell_type": "code",
   "execution_count": 17,
   "metadata": {},
   "outputs": [],
   "source": [
    "#Use 'answer' (Jeopardy questions) as the feature and 'value' as the target\n",
    "\n",
    "X = df['answer']\n",
    "y = df['value']"
   ]
  },
  {
   "cell_type": "code",
   "execution_count": 18,
   "metadata": {},
   "outputs": [],
   "source": [
    "X_train, X_test, y_train, y_test = train_test_split(X, y, test_size= 0.25, random_state=54)"
   ]
  },
  {
   "cell_type": "markdown",
   "metadata": {},
   "source": [
    "### Linear Regression Models"
   ]
  },
  {
   "cell_type": "code",
   "execution_count": 26,
   "metadata": {},
   "outputs": [],
   "source": [
    "# Instantiate the vectorizer; use stop words, trigrams, and min_df=2\n",
    "\n",
    "tfidf = TfidfVectorizer(stop_words='english', ngram_range= (1, 3), min_df=2)\n",
    "\n",
    "# Fit the vectorizer on X_train and transform it\n",
    "X_train_vectorized = tfidf.fit_transform(X_train)"
   ]
  },
  {
   "cell_type": "code",
   "execution_count": 27,
   "metadata": {},
   "outputs": [
    {
     "name": "stdout",
     "output_type": "stream",
     "text": [
      "Shape without any tweaks: (272823, 2784210)\n",
      "Shape with min_df=2: (272823, 292456)\n"
     ]
    }
   ],
   "source": [
    "print(\"Shape without any tweaks: (272823, 2784210)\")\n",
    "print(\"Shape with min_df=2:\", X_train_vectorized.shape)"
   ]
  },
  {
   "cell_type": "code",
   "execution_count": 28,
   "metadata": {},
   "outputs": [],
   "source": [
    "# Instantiate the vectorizer; use stop words, trigrams, and min_df=3\n",
    "\n",
    "tfidf = TfidfVectorizer(stop_words='english', ngram_range= (1, 3), min_df=3)\n",
    "\n",
    "# Fit the vectorizer on X_train and transform it\n",
    "X_train_vectorized_min_df3 = tfidf.fit_transform(X_train)"
   ]
  },
  {
   "cell_type": "code",
   "execution_count": 29,
   "metadata": {},
   "outputs": [
    {
     "name": "stdout",
     "output_type": "stream",
     "text": [
      "Shape without any tweaks: (272823, 2784210)\n",
      "Shape with min_df=2: (272823, 292456)\n",
      "Shape with min_df=3: (272823, 137274)\n"
     ]
    }
   ],
   "source": [
    "print(\"Shape without any tweaks: (272823, 2784210)\")\n",
    "print(\"Shape with min_df=2:\", X_train_vectorized.shape)\n",
    "print(\"Shape with min_df=3:\", X_train_vectorized_min_df3.shape)"
   ]
  },
  {
   "cell_type": "code",
   "execution_count": 30,
   "metadata": {},
   "outputs": [],
   "source": [
    "# Instantiate the vectorizer; use stop words, trigrams, and min_df=2, max_df=.95\n",
    "\n",
    "tfidf = TfidfVectorizer(stop_words='english', ngram_range= (1, 3), min_df=2, max_df=.95)\n",
    "\n",
    "# Fit the vectorizer on X_train and transform it\n",
    "X_train_vectorized_max_df95 = tfidf.fit_transform(X_train)"
   ]
  },
  {
   "cell_type": "code",
   "execution_count": 34,
   "metadata": {},
   "outputs": [
    {
     "name": "stdout",
     "output_type": "stream",
     "text": [
      "Shape without any tweaks: (272823, 2784210)\n",
      "Shape with min_df=2: (272823, 292456)\n",
      "Shape with min_df=3: (272823, 137274)\n",
      "Shape with max_df=.95: (272823, 292456)\n"
     ]
    }
   ],
   "source": [
    "print(\"Shape without any tweaks: (272823, 2784210)\")\n",
    "print(\"Shape with min_df=2:\", X_train_vectorized.shape)\n",
    "print(\"Shape with min_df=3:\", X_train_vectorized_min_df3.shape)\n",
    "print(\"Shape with max_df=.95:\", X_train_vectorized_max_df95.shape)"
   ]
  },
  {
   "cell_type": "code",
   "execution_count": 35,
   "metadata": {},
   "outputs": [],
   "source": [
    "# Instantiate the vectorizer; use stop words, trigrams, and min_df=2, max_df=.99\n",
    "\n",
    "tfidf = TfidfVectorizer(stop_words='english', ngram_range= (1, 3), min_df=2, max_df=.99)\n",
    "\n",
    "# Fit the vectorizer on X_train and transform it\n",
    "X_train_vectorized_max_df99 = tfidf.fit_transform(X_train)"
   ]
  },
  {
   "cell_type": "code",
   "execution_count": 36,
   "metadata": {},
   "outputs": [
    {
     "name": "stdout",
     "output_type": "stream",
     "text": [
      "Shape without any tweaks: (272823, 2784210)\n",
      "Shape with min_df=2: (272823, 292456)\n",
      "Shape with min_df=3: (272823, 137274)\n",
      "Shape with max_df=.95: (272823, 292456)\n",
      "Shape with max_df=.95: (272823, 292456)\n"
     ]
    }
   ],
   "source": [
    "print(\"Shape without any tweaks: (272823, 2784210)\")\n",
    "print(\"Shape with min_df=2:\", X_train_vectorized.shape)\n",
    "print(\"Shape with min_df=3:\", X_train_vectorized_min_df3.shape)\n",
    "print(\"Shape with max_df=.95:\", X_train_vectorized_max_df95.shape)\n",
    "print(\"Shape with max_df=.99:\", X_train_vectorized_max_df99.shape)"
   ]
  },
  {
   "cell_type": "code",
   "execution_count": 42,
   "metadata": {},
   "outputs": [],
   "source": [
    "# Instantiate the vectorizer; use stop words, trigrams, and min_df=2, max_df=.90\n",
    "\n",
    "tfidf = TfidfVectorizer(stop_words='english', ngram_range= (1, 3), min_df=2, max_df=.70)\n",
    "\n",
    "# Fit the vectorizer on X_train and transform it\n",
    "X_train_vectorized_max_df70 = tfidf.fit_transform(X_train)"
   ]
  },
  {
   "cell_type": "code",
   "execution_count": 43,
   "metadata": {},
   "outputs": [
    {
     "name": "stdout",
     "output_type": "stream",
     "text": [
      "Shape without any tweaks: (272823, 2784210)\n",
      "Shape with min_df=2: (272823, 292456)\n",
      "Shape with min_df=3: (272823, 137274)\n",
      "Shape with max_df=.95: (272823, 292456)\n",
      "Shape with max_df=.99: (272823, 292456)\n",
      "Shape with max_df=.70: (272823, 292456)\n"
     ]
    }
   ],
   "source": [
    "print(\"Shape without any tweaks: (272823, 2784210)\")\n",
    "print(\"Shape with min_df=2:\", X_train_vectorized.shape)\n",
    "print(\"Shape with min_df=3:\", X_train_vectorized_min_df3.shape)\n",
    "print(\"Shape with max_df=.95:\", X_train_vectorized_max_df95.shape)\n",
    "print(\"Shape with max_df=.99:\", X_train_vectorized_max_df99.shape)\n",
    "print(\"Shape with max_df=.70:\", X_train_vectorized_max_df70.shape)"
   ]
  },
  {
   "cell_type": "markdown",
   "metadata": {},
   "source": [
    "max_df doesn't seem to be affecting the number of features"
   ]
  },
  {
   "cell_type": "code",
   "execution_count": 44,
   "metadata": {},
   "outputs": [],
   "source": [
    "# Instantiate the vectorizer; use stop words, trigrams, and min_df=2, max_df=.90\n",
    "\n",
    "tfidf = TfidfVectorizer(stop_words='english', ngram_range= (1, 3), min_df=2, max_features=200000)\n",
    "\n",
    "# Fit the vectorizer on X_train and transform it\n",
    "X_train_vectorized_max_features200000 = tfidf.fit_transform(X_train)"
   ]
  },
  {
   "cell_type": "code",
   "execution_count": 45,
   "metadata": {},
   "outputs": [
    {
     "name": "stdout",
     "output_type": "stream",
     "text": [
      "Shape without any tweaks: (272823, 2784210)\n",
      "Shape with min_df=2: (272823, 292456)\n",
      "Shape with min_df=3: (272823, 137274)\n",
      "Shape with max_features=200000: (272823, 200000)\n"
     ]
    }
   ],
   "source": [
    "print(\"Shape without any tweaks: (272823, 2784210)\")\n",
    "print(\"Shape with min_df=2:\", X_train_vectorized.shape)\n",
    "print(\"Shape with min_df=3:\", X_train_vectorized_min_df3.shape)\n",
    "print(\"Shape with max_features=200000:\", X_train_vectorized_max_features200000.shape)"
   ]
  },
  {
   "cell_type": "markdown",
   "metadata": {},
   "source": [
    "#### Time to test out how small we can make our features and still get decent results"
   ]
  },
  {
   "cell_type": "code",
   "execution_count": 49,
   "metadata": {},
   "outputs": [],
   "source": [
    "# Instantiate the vectorizer with stop words, trigrams, and min_df=3\n",
    "\n",
    "tfidf = TfidfVectorizer(stop_words='english', ngram_range= (1, 3), min_df=3)\n",
    "\n",
    "# Fit the vectorizer on X_train and transform it\n",
    "X_train_vectorized = tfidf.fit_transform(X_train)"
   ]
  },
  {
   "cell_type": "code",
   "execution_count": 50,
   "metadata": {},
   "outputs": [
    {
     "data": {
      "text/plain": [
       "array([-1392.1949114 , -1346.35960062])"
      ]
     },
     "execution_count": 50,
     "metadata": {},
     "output_type": "execute_result"
    }
   ],
   "source": [
    "baseline_regression_model = LinearRegression()\n",
    "baseline_regression_cv = cross_val_score(baseline_regression_model, X_train_vectorized, y_train, cv=2, scoring='neg_root_mean_squared_error')\n",
    "baseline_regression_cv"
   ]
  },
  {
   "cell_type": "code",
   "execution_count": 55,
   "metadata": {},
   "outputs": [
    {
     "name": "stdout",
     "output_type": "stream",
     "text": [
      "Regression Baseline without a min_df: 535.3104632761718\n",
      "Regression Baseline with a min_df=3: 1369.2772560089857\n"
     ]
    }
   ],
   "source": [
    "#Average of cross-validated scores\n",
    "print(\"Regression Baseline without a min_df: 535.3104632761718\")\n",
    "print(\"Regression Baseline with a min_df=3:\", -(baseline_regression_cv.mean()))"
   ]
  },
  {
   "cell_type": "code",
   "execution_count": 56,
   "metadata": {},
   "outputs": [],
   "source": [
    "# Instantiate the vectorizer with stop words, trigrams, and min_df=2\n",
    "\n",
    "tfidf = TfidfVectorizer(stop_words='english', ngram_range= (1, 3), min_df=2)\n",
    "\n",
    "# Fit the vectorizer on X_train and transform it\n",
    "X_train_vectorized2 = tfidf.fit_transform(X_train)"
   ]
  },
  {
   "cell_type": "code",
   "execution_count": 58,
   "metadata": {},
   "outputs": [],
   "source": [
    "# baseline_regression_model = LinearRegression()\n",
    "# baseline_regression_cv = cross_val_score(baseline_regression_model, X_train_vectorized2, y_train, cv=2, scoring='neg_root_mean_squared_error')\n",
    "# baseline_regression_cv"
   ]
  },
  {
   "cell_type": "code",
   "execution_count": 59,
   "metadata": {},
   "outputs": [],
   "source": [
    "# Instantiate the vectorizer with stop words, trigrams, and max_features=100000\n",
    "\n",
    "tfidf = TfidfVectorizer(stop_words='english', ngram_range= (1, 3), max_features=100000)\n",
    "\n",
    "# Fit the vectorizer on X_train and transform it\n",
    "X_train_vectorized3 = tfidf.fit_transform(X_train)"
   ]
  },
  {
   "cell_type": "code",
   "execution_count": 60,
   "metadata": {},
   "outputs": [
    {
     "data": {
      "text/plain": [
       "array([-952.82573845, -936.31994601])"
      ]
     },
     "execution_count": 60,
     "metadata": {},
     "output_type": "execute_result"
    }
   ],
   "source": [
    "max_features100000_regression_model = LinearRegression()\n",
    "max_features100000_regression_cv = cross_val_score(max_features100000_regression_model, X_train_vectorized3, y_train, cv=2, scoring='neg_root_mean_squared_error')\n",
    "max_features100000_regression_cv"
   ]
  },
  {
   "cell_type": "code",
   "execution_count": 61,
   "metadata": {},
   "outputs": [
    {
     "name": "stdout",
     "output_type": "stream",
     "text": [
      "Regression Baseline without a min_df: 535.3104632761718\n",
      "Regression Baseline with max_features=100000: 944.572842228183\n"
     ]
    }
   ],
   "source": [
    "#Average of cross-validated scores\n",
    "print(\"Regression Baseline without a min_df: 535.3104632761718\")\n",
    "print(\"Regression Baseline with max_features=100000:\", -(max_features100000_regression_cv.mean()))"
   ]
  },
  {
   "cell_type": "code",
   "execution_count": 62,
   "metadata": {},
   "outputs": [],
   "source": [
    "# Instantiate the vectorizer with stop words, trigrams, and max_features=150000\n",
    "\n",
    "tfidf = TfidfVectorizer(stop_words='english', ngram_range= (1, 3), max_features=150000)\n",
    "\n",
    "# Fit the vectorizer on X_train and transform it\n",
    "X_train_vectorized4 = tfidf.fit_transform(X_train)"
   ]
  },
  {
   "cell_type": "code",
   "execution_count": 63,
   "metadata": {},
   "outputs": [
    {
     "data": {
      "text/plain": [
       "array([-1546.88373835, -1514.39812058])"
      ]
     },
     "execution_count": 63,
     "metadata": {},
     "output_type": "execute_result"
    }
   ],
   "source": [
    "max_features150000_regression_model = LinearRegression()\n",
    "max_features150000_regression_cv = cross_val_score(max_features150000_regression_model, X_train_vectorized4, y_train, cv=2, scoring='neg_root_mean_squared_error')\n",
    "max_features150000_regression_cv"
   ]
  },
  {
   "cell_type": "code",
   "execution_count": 65,
   "metadata": {},
   "outputs": [
    {
     "name": "stdout",
     "output_type": "stream",
     "text": [
      "Regression Baseline without a min_df: 535.3104632761718\n",
      "Regression Baseline with max_features=100000: 944.572842228183\n",
      "Regression Baseline with max_features=150000: 1530.6409294666328\n"
     ]
    }
   ],
   "source": [
    "#Average of cross-validated scores\n",
    "print(\"Regression Baseline without a min_df: 535.3104632761718\")\n",
    "print(\"Regression Baseline with max_features=100000:\", -(max_features100000_regression_cv.mean()))\n",
    "print(\"Regression Baseline with max_features=150000:\", -(max_features150000_regression_cv.mean()))"
   ]
  },
  {
   "cell_type": "code",
   "execution_count": 66,
   "metadata": {},
   "outputs": [],
   "source": [
    "# Instantiate the vectorizer with stop words, trigrams, and max_features=50000\n",
    "\n",
    "tfidf = TfidfVectorizer(stop_words='english', ngram_range= (1, 3), max_features=50000)\n",
    "\n",
    "# Fit the vectorizer on X_train and transform it\n",
    "X_train_vectorized5 = tfidf.fit_transform(X_train)"
   ]
  },
  {
   "cell_type": "code",
   "execution_count": 73,
   "metadata": {},
   "outputs": [
    {
     "data": {
      "text/plain": [
       "array([-655.79549005, -657.9782792 ])"
      ]
     },
     "execution_count": 73,
     "metadata": {},
     "output_type": "execute_result"
    }
   ],
   "source": [
    "max_features50000_regression_model = LinearRegression()\n",
    "max_features50000_regression_cv = cross_val_score(max_features50000_regression_model, X_train_vectorized5, y_train, cv=2, scoring='neg_root_mean_squared_error')\n",
    "max_features50000_regression_cv"
   ]
  },
  {
   "cell_type": "code",
   "execution_count": 74,
   "metadata": {},
   "outputs": [
    {
     "name": "stdout",
     "output_type": "stream",
     "text": [
      "Regression Baseline without a min_df: 535.3104632761718\n",
      "Regression Baseline with max_features=100000: 944.572842228183\n",
      "Regression Baseline with max_features=150000: 1530.6409294666328\n",
      "Regression Baseline with max_features=50000: 656.8868846233527\n"
     ]
    }
   ],
   "source": [
    "#Average of cross-validated scores\n",
    "print(\"Regression Baseline without a min_df: 535.3104632761718\")\n",
    "print(\"Regression Baseline with max_features=100000:\", -(max_features100000_regression_cv.mean()))\n",
    "print(\"Regression Baseline with max_features=150000:\", -(max_features150000_regression_cv.mean()))\n",
    "print(\"Regression Baseline with max_features=50000:\", -(max_features50000_regression_cv.mean()))"
   ]
  },
  {
   "cell_type": "code",
   "execution_count": 71,
   "metadata": {},
   "outputs": [],
   "source": [
    "# Instantiate the vectorizer with stop words, trigrams, and max_features=25000\n",
    "\n",
    "tfidf = TfidfVectorizer(stop_words='english', ngram_range= (1, 3), max_features=25000)\n",
    "\n",
    "# Fit the vectorizer on X_train and transform it\n",
    "X_train_vectorized6 = tfidf.fit_transform(X_train)"
   ]
  },
  {
   "cell_type": "code",
   "execution_count": 72,
   "metadata": {},
   "outputs": [
    {
     "data": {
      "text/plain": [
       "array([-570.34436085, -572.20590569])"
      ]
     },
     "execution_count": 72,
     "metadata": {},
     "output_type": "execute_result"
    }
   ],
   "source": [
    "max_features25000_regression_model = LinearRegression()\n",
    "max_features25000_regression_cv = cross_val_score(max_features25000_regression_model, X_train_vectorized6, y_train, cv=2, scoring='neg_root_mean_squared_error')\n",
    "max_features25000_regression_cv"
   ]
  },
  {
   "cell_type": "code",
   "execution_count": 75,
   "metadata": {},
   "outputs": [
    {
     "name": "stdout",
     "output_type": "stream",
     "text": [
      "Regression Baseline without a min_df: 535.3104632761718\n",
      "Regression Baseline with max_features=100000: 944.572842228183\n",
      "Regression Baseline with max_features=150000: 1530.6409294666328\n",
      "Regression Baseline with max_features=50000: 656.8868846233527\n",
      "Regression Baseline with max_features=50000: 571.2751332721688\n"
     ]
    }
   ],
   "source": [
    "#Average of cross-validated scores\n",
    "print(\"Regression Baseline without a min_df: 535.3104632761718\")\n",
    "print(\"Regression Baseline with max_features=100000:\", -(max_features100000_regression_cv.mean()))\n",
    "print(\"Regression Baseline with max_features=150000:\", -(max_features150000_regression_cv.mean()))\n",
    "print(\"Regression Baseline with max_features=50000:\", -(max_features50000_regression_cv.mean()))\n",
    "print(\"Regression Baseline with max_features=50000:\", -(max_features25000_regression_cv.mean()))"
   ]
  },
  {
   "cell_type": "code",
   "execution_count": 77,
   "metadata": {},
   "outputs": [],
   "source": [
    "# Instantiate the vectorizer with stop words, trigrams, and max_features=10000\n",
    "\n",
    "tfidf = TfidfVectorizer(stop_words='english', ngram_range= (1, 3), max_features=10000)\n",
    "\n",
    "# Fit the vectorizer on X_train and transform it\n",
    "X_train_vectorized7 = tfidf.fit_transform(X_train)"
   ]
  },
  {
   "cell_type": "code",
   "execution_count": 81,
   "metadata": {},
   "outputs": [
    {
     "data": {
      "text/plain": [
       "array([-537.92519685, -538.82953781])"
      ]
     },
     "execution_count": 81,
     "metadata": {},
     "output_type": "execute_result"
    }
   ],
   "source": [
    "max_features10000_regression_model = LinearRegression()\n",
    "max_features10000_regression_cv = cross_val_score(max_features10000_regression_model, X_train_vectorized7, y_train, cv=2, scoring='neg_root_mean_squared_error')\n",
    "max_features10000_regression_cv"
   ]
  },
  {
   "cell_type": "code",
   "execution_count": 82,
   "metadata": {},
   "outputs": [
    {
     "name": "stdout",
     "output_type": "stream",
     "text": [
      "Regression Baseline without a min_df: 535.3104632761718\n",
      "Regression Baseline with max_features=100000: 944.572842228183\n",
      "Regression Baseline with max_features=150000: 1530.6409294666328\n",
      "Regression Baseline with max_features=50000: 656.8868846233527\n",
      "Regression Baseline with max_features=10000: 538.3773673300094\n"
     ]
    }
   ],
   "source": [
    "#Average of cross-validated scores\n",
    "print(\"Regression Baseline without a min_df: 535.3104632761718\")\n",
    "print(\"Regression Baseline with max_features=100000:\", -(max_features100000_regression_cv.mean()))\n",
    "print(\"Regression Baseline with max_features=150000:\", -(max_features150000_regression_cv.mean()))\n",
    "print(\"Regression Baseline with max_features=50000:\", -(max_features50000_regression_cv.mean()))\n",
    "print(\"Regression Baseline with max_features=10000:\", -(max_features10000_regression_cv.mean()))"
   ]
  },
  {
   "cell_type": "code",
   "execution_count": 98,
   "metadata": {},
   "outputs": [],
   "source": [
    "# Instantiate the vectorizer with stop words, trigrams, and max_features=5000\n",
    "\n",
    "tfidf = TfidfVectorizer(stop_words='english', ngram_range= (1, 3), max_features=5000)\n",
    "\n",
    "# Fit the vectorizer on X_train and transform it\n",
    "X_train_vectorized7_75 = tfidf.fit_transform(X_train)"
   ]
  },
  {
   "cell_type": "code",
   "execution_count": 99,
   "metadata": {},
   "outputs": [
    {
     "data": {
      "text/plain": [
       "array([-530.47274871, -531.37950116])"
      ]
     },
     "execution_count": 99,
     "metadata": {},
     "output_type": "execute_result"
    }
   ],
   "source": [
    "max_features5000_regression_model = LinearRegression()\n",
    "max_features5000_regression_cv = cross_val_score(max_features5000_regression_model, X_train_vectorized7_75, y_train, cv=2, scoring='neg_root_mean_squared_error')\n",
    "max_features5000_regression_cv"
   ]
  },
  {
   "cell_type": "code",
   "execution_count": 101,
   "metadata": {},
   "outputs": [
    {
     "name": "stdout",
     "output_type": "stream",
     "text": [
      "Regression Baseline without a min_df: 535.3104632761718\n",
      "Regression Baseline with max_features=100000: 944.572842228183\n",
      "Regression Baseline with max_features=150000: 1530.6409294666328\n",
      "Regression Baseline with max_features=50000: 656.8868846233527\n",
      "Regression Baseline with max_features=10000: 538.3773673300094\n",
      "Regression Baseline with max_features=5000: 530.9261249317033\n"
     ]
    }
   ],
   "source": [
    "#Average of cross-validated scores\n",
    "print(\"Regression Baseline without a min_df: 535.3104632761718\")\n",
    "print(\"Regression Baseline with max_features=100000:\", -(max_features100000_regression_cv.mean()))\n",
    "print(\"Regression Baseline with max_features=150000:\", -(max_features150000_regression_cv.mean()))\n",
    "print(\"Regression Baseline with max_features=50000:\", -(max_features50000_regression_cv.mean()))\n",
    "print(\"Regression Baseline with max_features=10000:\", -(max_features10000_regression_cv.mean()))\n",
    "print(\"Regression Baseline with max_features=5000:\", -(max_features5000_regression_cv.mean()))"
   ]
  },
  {
   "cell_type": "code",
   "execution_count": 90,
   "metadata": {},
   "outputs": [],
   "source": [
    "# Instantiate the vectorizer with stop words, trigrams, and max_features=1000\n",
    "\n",
    "tfidf = TfidfVectorizer(stop_words='english', ngram_range= (1, 3), max_features=1000)\n",
    "\n",
    "# Fit the vectorizer on X_train and transform it\n",
    "X_train_vectorized7_5 = tfidf.fit_transform(X_train)"
   ]
  },
  {
   "cell_type": "code",
   "execution_count": 91,
   "metadata": {},
   "outputs": [
    {
     "data": {
      "text/plain": [
       "array([-527.27091398, -527.67334132])"
      ]
     },
     "execution_count": 91,
     "metadata": {},
     "output_type": "execute_result"
    }
   ],
   "source": [
    "max_features1000_regression_model = LinearRegression()\n",
    "max_features1000_regression_cv = cross_val_score(max_features1000_regression_model, X_train_vectorized7_5, y_train, cv=2, scoring='neg_root_mean_squared_error')\n",
    "max_features1000_regression_cv"
   ]
  },
  {
   "cell_type": "code",
   "execution_count": 102,
   "metadata": {},
   "outputs": [
    {
     "name": "stdout",
     "output_type": "stream",
     "text": [
      "Regression Baseline without a min_df: 535.3104632761718\n",
      "Regression Baseline with max_features=100000: 944.572842228183\n",
      "Regression Baseline with max_features=150000: 1530.6409294666328\n",
      "Regression Baseline with max_features=50000: 656.8868846233527\n",
      "Regression Baseline with max_features=10000: 538.3773673300094\n",
      "Regression Baseline with max_features=5000: 530.9261249317033\n",
      "Regression Baseline with max_features=1000: 527.4721276502198\n"
     ]
    }
   ],
   "source": [
    "#Average of cross-validated scores\n",
    "print(\"Regression Baseline without a min_df: 535.3104632761718\")\n",
    "print(\"Regression Baseline with max_features=100000:\", -(max_features100000_regression_cv.mean()))\n",
    "print(\"Regression Baseline with max_features=150000:\", -(max_features150000_regression_cv.mean()))\n",
    "print(\"Regression Baseline with max_features=50000:\", -(max_features50000_regression_cv.mean()))\n",
    "print(\"Regression Baseline with max_features=10000:\", -(max_features10000_regression_cv.mean()))\n",
    "print(\"Regression Baseline with max_features=5000:\", -(max_features5000_regression_cv.mean()))\n",
    "print(\"Regression Baseline with max_features=1000:\", -(max_features1000_regression_cv.mean()))"
   ]
  },
  {
   "cell_type": "code",
   "execution_count": 80,
   "metadata": {},
   "outputs": [],
   "source": [
    "# Instantiate the vectorizer with stop words, trigrams, and max_features=100\n",
    "\n",
    "tfidf = TfidfVectorizer(stop_words='english', ngram_range= (1, 3), max_features=100)\n",
    "\n",
    "# Fit the vectorizer on X_train and transform it\n",
    "X_train_vectorized8 = tfidf.fit_transform(X_train)"
   ]
  },
  {
   "cell_type": "code",
   "execution_count": 83,
   "metadata": {},
   "outputs": [
    {
     "data": {
      "text/plain": [
       "array([-529.95386078, -530.69914218])"
      ]
     },
     "execution_count": 83,
     "metadata": {},
     "output_type": "execute_result"
    }
   ],
   "source": [
    "max_features100_regression_model = LinearRegression()\n",
    "max_features100_regression_cv = cross_val_score(max_features100_regression_model, X_train_vectorized8, y_train, cv=2, scoring='neg_root_mean_squared_error')\n",
    "max_features100_regression_cv"
   ]
  },
  {
   "cell_type": "code",
   "execution_count": 103,
   "metadata": {},
   "outputs": [
    {
     "name": "stdout",
     "output_type": "stream",
     "text": [
      "Regression Baseline without a min_df: 535.3104632761718\n",
      "Regression Baseline with max_features=100000: 944.572842228183\n",
      "Regression Baseline with max_features=150000: 1530.6409294666328\n",
      "Regression Baseline with max_features=50000: 656.8868846233527\n",
      "Regression Baseline with max_features=10000: 538.3773673300094\n",
      "Regression Baseline with max_features=5000: 530.9261249317033\n",
      "Regression Baseline with max_features=1000: 527.4721276502198\n",
      "Regression Baseline with max_features=100: 530.3265014781712\n"
     ]
    }
   ],
   "source": [
    "#Average of cross-validated scores\n",
    "print(\"Regression Baseline without a min_df: 535.3104632761718\")\n",
    "print(\"Regression Baseline with max_features=100000:\", -(max_features100000_regression_cv.mean()))\n",
    "print(\"Regression Baseline with max_features=150000:\", -(max_features150000_regression_cv.mean()))\n",
    "print(\"Regression Baseline with max_features=50000:\", -(max_features50000_regression_cv.mean()))\n",
    "print(\"Regression Baseline with max_features=10000:\", -(max_features10000_regression_cv.mean()))\n",
    "print(\"Regression Baseline with max_features=5000:\", -(max_features5000_regression_cv.mean()))\n",
    "print(\"Regression Baseline with max_features=1000:\", -(max_features1000_regression_cv.mean()))\n",
    "print(\"Regression Baseline with max_features=100:\", -(max_features100_regression_cv.mean()))"
   ]
  },
  {
   "cell_type": "code",
   "execution_count": 86,
   "metadata": {},
   "outputs": [],
   "source": [
    "# Instantiate the vectorizer with stop words, trigrams, and max_features=10\n",
    "\n",
    "tfidf = TfidfVectorizer(stop_words='english', ngram_range= (1, 3), max_features=10)\n",
    "\n",
    "# Fit the vectorizer on X_train and transform it\n",
    "X_train_vectorized9 = tfidf.fit_transform(X_train)"
   ]
  },
  {
   "cell_type": "code",
   "execution_count": 87,
   "metadata": {},
   "outputs": [
    {
     "data": {
      "text/plain": [
       "array([-532.71341658, -533.08772968])"
      ]
     },
     "execution_count": 87,
     "metadata": {},
     "output_type": "execute_result"
    }
   ],
   "source": [
    "max_features10_regression_model = LinearRegression()\n",
    "max_features10_regression_cv = cross_val_score(max_features10_regression_model, X_train_vectorized9, y_train, cv=2, scoring='neg_root_mean_squared_error')\n",
    "max_features10_regression_cv"
   ]
  },
  {
   "cell_type": "code",
   "execution_count": 104,
   "metadata": {},
   "outputs": [
    {
     "name": "stdout",
     "output_type": "stream",
     "text": [
      "Regression Baseline without a min_df: 535.3104632761718\n",
      "Regression Baseline with max_features=100000: 944.572842228183\n",
      "Regression Baseline with max_features=150000: 1530.6409294666328\n",
      "Regression Baseline with max_features=50000: 656.8868846233527\n",
      "Regression Baseline with max_features=10000: 538.3773673300094\n",
      "Regression Baseline with max_features=5000: 530.9261249317033\n",
      "Regression Baseline with max_features=1000: 527.4721276502198\n",
      "Regression Baseline with max_features=100: 530.3265014781712\n",
      "Regression Baseline with max_features=10: 532.9005731306055\n"
     ]
    }
   ],
   "source": [
    "#Average of cross-validated scores\n",
    "print(\"Regression Baseline without a min_df: 535.3104632761718\")\n",
    "print(\"Regression Baseline with max_features=100000:\", -(max_features100000_regression_cv.mean()))\n",
    "print(\"Regression Baseline with max_features=150000:\", -(max_features150000_regression_cv.mean()))\n",
    "print(\"Regression Baseline with max_features=50000:\", -(max_features50000_regression_cv.mean()))\n",
    "print(\"Regression Baseline with max_features=10000:\", -(max_features10000_regression_cv.mean()))\n",
    "print(\"Regression Baseline with max_features=5000:\", -(max_features5000_regression_cv.mean()))\n",
    "print(\"Regression Baseline with max_features=1000:\", -(max_features1000_regression_cv.mean()))\n",
    "print(\"Regression Baseline with max_features=100:\", -(max_features100_regression_cv.mean()))\n",
    "print(\"Regression Baseline with max_features=10:\", -(max_features10_regression_cv.mean()))"
   ]
  },
  {
   "cell_type": "code",
   "execution_count": 105,
   "metadata": {},
   "outputs": [
    {
     "data": {
      "text/plain": [
       "array([-526.28291203, -527.92057371, -524.4349847 , -528.61892525,\n",
       "       -527.34181451])"
      ]
     },
     "execution_count": 105,
     "metadata": {},
     "output_type": "execute_result"
    }
   ],
   "source": [
    "#run a 5-fold cv with max_features=1000\n",
    "max_features1000_5folds_regression_model = LinearRegression()\n",
    "max_features1000_5folds_regression_cv = cross_val_score(max_features1000_regression_model, X_train_vectorized7_5, y_train, cv=5, scoring='neg_root_mean_squared_error')\n",
    "max_features1000_5folds_regression_cv"
   ]
  },
  {
   "cell_type": "code",
   "execution_count": 106,
   "metadata": {},
   "outputs": [
    {
     "name": "stdout",
     "output_type": "stream",
     "text": [
      "Regression Baseline with max_features=1000, 5 folds: 526.9198420409487\n"
     ]
    }
   ],
   "source": [
    "print(\"Regression Baseline with max_features=1000, 5 folds:\", -(max_features1000_5folds_regression_cv.mean()))"
   ]
  },
  {
   "cell_type": "code",
   "execution_count": 19,
   "metadata": {},
   "outputs": [],
   "source": [
    "#run a 5-fold cv with max_features=1000 with bigrams instead of trigrams\n",
    "tfidf = TfidfVectorizer(stop_words='english', ngram_range= (1, 2), max_features=1000)\n",
    "\n",
    "# Fit the vectorizer on X_train and transform it\n",
    "X_train_vectorized10 = tfidf.fit_transform(X_train)"
   ]
  },
  {
   "cell_type": "code",
   "execution_count": 20,
   "metadata": {},
   "outputs": [
    {
     "data": {
      "text/plain": [
       "array([-526.24792088, -527.87953226, -524.46365918, -528.505696  ,\n",
       "       -527.29338342])"
      ]
     },
     "execution_count": 20,
     "metadata": {},
     "output_type": "execute_result"
    }
   ],
   "source": [
    "max_features1000_regression_model_bigrams = LinearRegression()\n",
    "max_features1000_bigrams_regression_cv = cross_val_score(max_features1000_regression_model_bigrams, X_train_vectorized10, y_train, cv=5, scoring='neg_root_mean_squared_error')\n",
    "max_features1000_bigrams_regression_cv"
   ]
  },
  {
   "cell_type": "code",
   "execution_count": 21,
   "metadata": {},
   "outputs": [
    {
     "name": "stdout",
     "output_type": "stream",
     "text": [
      "Regression Baseline with max_features=1000, bigrams, 5 folds: 526.8780383476773\n"
     ]
    }
   ],
   "source": [
    "print(\"Regression Baseline with max_features=1000, bigrams, 5 folds:\", -(max_features1000_bigrams_regression_cv.mean()))"
   ]
  },
  {
   "cell_type": "code",
   "execution_count": 22,
   "metadata": {},
   "outputs": [
    {
     "data": {
      "text/plain": [
       "LinearRegression()"
      ]
     },
     "execution_count": 22,
     "metadata": {},
     "output_type": "execute_result"
    }
   ],
   "source": [
    "#Run model against test set\n",
    "\n",
    "# Train the model using the training sets\n",
    "max_features1000_regression_model_bigrams.fit(X_train_vectorized10, y_train)"
   ]
  },
  {
   "cell_type": "code",
   "execution_count": 23,
   "metadata": {},
   "outputs": [],
   "source": [
    "#Vectorize X_test\n",
    "X_test_vectorized10 = tfidf.fit_transform(X_test)"
   ]
  },
  {
   "cell_type": "code",
   "execution_count": 24,
   "metadata": {},
   "outputs": [],
   "source": [
    "# Make predictions using the testing set\n",
    "y_pred = max_features1000_regression_model_bigrams.predict(X_test_vectorized10)"
   ]
  },
  {
   "cell_type": "code",
   "execution_count": 25,
   "metadata": {},
   "outputs": [],
   "source": [
    "rmse_best_linear_test = mean_squared_error(y_test, y_pred, squared=False)"
   ]
  },
  {
   "cell_type": "code",
   "execution_count": 26,
   "metadata": {},
   "outputs": [
    {
     "data": {
      "text/plain": [
       "536.1847307940411"
      ]
     },
     "execution_count": 26,
     "metadata": {},
     "output_type": "execute_result"
    }
   ],
   "source": [
    "rmse_best_linear_test"
   ]
  },
  {
   "cell_type": "code",
   "execution_count": 178,
   "metadata": {},
   "outputs": [
    {
     "data": {
      "text/plain": [
       "79.60390619817802"
      ]
     },
     "execution_count": 178,
     "metadata": {},
     "output_type": "execute_result"
    }
   ],
   "source": [
    "mape=np.mean(np.abs((y_test - y_pred) / y_test) * 100)\n",
    "mape"
   ]
  },
  {
   "cell_type": "code",
   "execution_count": 29,
   "metadata": {},
   "outputs": [
    {
     "data": {
      "text/plain": [
       "(90942,)"
      ]
     },
     "execution_count": 29,
     "metadata": {},
     "output_type": "execute_result"
    }
   ],
   "source": [
    "y_pred.shape"
   ]
  },
  {
   "cell_type": "code",
   "execution_count": 63,
   "metadata": {},
   "outputs": [
    {
     "data": {
      "text/plain": [
       "array([802.35340959, 990.00974511, 759.73027523, ..., 900.12934979,\n",
       "       914.40452923, 785.46939034])"
      ]
     },
     "execution_count": 63,
     "metadata": {},
     "output_type": "execute_result"
    }
   ],
   "source": [
    "y_pred"
   ]
  },
  {
   "cell_type": "code",
   "execution_count": 49,
   "metadata": {},
   "outputs": [
    {
     "data": {
      "text/plain": [
       "pandas.core.series.Series"
      ]
     },
     "execution_count": 49,
     "metadata": {},
     "output_type": "execute_result"
    }
   ],
   "source": [
    "type(y_test)"
   ]
  },
  {
   "cell_type": "code",
   "execution_count": 64,
   "metadata": {
    "jupyter": {
     "source_hidden": true
    }
   },
   "outputs": [
    {
     "data": {
      "text/plain": [
       "327211     600\n",
       "213986    1200\n",
       "277268     400\n",
       "248430     400\n",
       "20770      400\n",
       "          ... \n",
       "40678     1600\n",
       "81440      800\n",
       "220278     800\n",
       "338447     400\n",
       "110947    1000\n",
       "Name: value, Length: 90942, dtype: int64"
      ]
     },
     "execution_count": 64,
     "metadata": {},
     "output_type": "execute_result"
    }
   ],
   "source": [
    "y_test"
   ]
  },
  {
   "cell_type": "code",
   "execution_count": 53,
   "metadata": {},
   "outputs": [
    {
     "data": {
      "text/plain": [
       "0"
      ]
     },
     "execution_count": 53,
     "metadata": {},
     "output_type": "execute_result"
    }
   ],
   "source": [
    "y_test.isnull().sum()"
   ]
  },
  {
   "cell_type": "code",
   "execution_count": 100,
   "metadata": {},
   "outputs": [
    {
     "data": {
      "text/html": [
       "<div>\n",
       "<style scoped>\n",
       "    .dataframe tbody tr th:only-of-type {\n",
       "        vertical-align: middle;\n",
       "    }\n",
       "\n",
       "    .dataframe tbody tr th {\n",
       "        vertical-align: top;\n",
       "    }\n",
       "\n",
       "    .dataframe thead th {\n",
       "        text-align: right;\n",
       "    }\n",
       "</style>\n",
       "<table border=\"1\" class=\"dataframe\">\n",
       "  <thead>\n",
       "    <tr style=\"text-align: right;\">\n",
       "      <th></th>\n",
       "      <th>Predictions</th>\n",
       "    </tr>\n",
       "  </thead>\n",
       "  <tbody>\n",
       "    <tr>\n",
       "      <th>0</th>\n",
       "      <td>802.353410</td>\n",
       "    </tr>\n",
       "    <tr>\n",
       "      <th>1</th>\n",
       "      <td>990.009745</td>\n",
       "    </tr>\n",
       "    <tr>\n",
       "      <th>2</th>\n",
       "      <td>759.730275</td>\n",
       "    </tr>\n",
       "    <tr>\n",
       "      <th>3</th>\n",
       "      <td>896.424543</td>\n",
       "    </tr>\n",
       "    <tr>\n",
       "      <th>4</th>\n",
       "      <td>1009.730574</td>\n",
       "    </tr>\n",
       "    <tr>\n",
       "      <th>...</th>\n",
       "      <td>...</td>\n",
       "    </tr>\n",
       "    <tr>\n",
       "      <th>90937</th>\n",
       "      <td>874.902538</td>\n",
       "    </tr>\n",
       "    <tr>\n",
       "      <th>90938</th>\n",
       "      <td>808.846708</td>\n",
       "    </tr>\n",
       "    <tr>\n",
       "      <th>90939</th>\n",
       "      <td>900.129350</td>\n",
       "    </tr>\n",
       "    <tr>\n",
       "      <th>90940</th>\n",
       "      <td>914.404529</td>\n",
       "    </tr>\n",
       "    <tr>\n",
       "      <th>90941</th>\n",
       "      <td>785.469390</td>\n",
       "    </tr>\n",
       "  </tbody>\n",
       "</table>\n",
       "<p>90942 rows × 1 columns</p>\n",
       "</div>"
      ],
      "text/plain": [
       "       Predictions\n",
       "0       802.353410\n",
       "1       990.009745\n",
       "2       759.730275\n",
       "3       896.424543\n",
       "4      1009.730574\n",
       "...            ...\n",
       "90937   874.902538\n",
       "90938   808.846708\n",
       "90939   900.129350\n",
       "90940   914.404529\n",
       "90941   785.469390\n",
       "\n",
       "[90942 rows x 1 columns]"
      ]
     },
     "execution_count": 100,
     "metadata": {},
     "output_type": "execute_result"
    }
   ],
   "source": [
    "#change y_pred into a pandas df\n",
    "df_pred = pd.DataFrame(y_pred, columns = ['Predictions'])\n",
    "df_pred"
   ]
  },
  {
   "cell_type": "code",
   "execution_count": 50,
   "metadata": {},
   "outputs": [
    {
     "data": {
      "text/plain": [
       "pandas.core.frame.DataFrame"
      ]
     },
     "execution_count": 50,
     "metadata": {},
     "output_type": "execute_result"
    }
   ],
   "source": [
    "type(df_pred)"
   ]
  },
  {
   "cell_type": "code",
   "execution_count": 68,
   "metadata": {},
   "outputs": [],
   "source": [
    "#create a df with actual and predicted y_test values\n",
    "actual_preds = pd.concat([y_test.reset_index(drop=True), df_pred.reset_index(drop=True)], axis=1)"
   ]
  },
  {
   "cell_type": "code",
   "execution_count": 78,
   "metadata": {},
   "outputs": [
    {
     "data": {
      "text/html": [
       "<div>\n",
       "<style scoped>\n",
       "    .dataframe tbody tr th:only-of-type {\n",
       "        vertical-align: middle;\n",
       "    }\n",
       "\n",
       "    .dataframe tbody tr th {\n",
       "        vertical-align: top;\n",
       "    }\n",
       "\n",
       "    .dataframe thead th {\n",
       "        text-align: right;\n",
       "    }\n",
       "</style>\n",
       "<table border=\"1\" class=\"dataframe\">\n",
       "  <thead>\n",
       "    <tr style=\"text-align: right;\">\n",
       "      <th></th>\n",
       "      <th>value</th>\n",
       "      <th>Predictions</th>\n",
       "    </tr>\n",
       "  </thead>\n",
       "  <tbody>\n",
       "    <tr>\n",
       "      <th>50</th>\n",
       "      <td>2000</td>\n",
       "      <td>827.092162</td>\n",
       "    </tr>\n",
       "    <tr>\n",
       "      <th>51</th>\n",
       "      <td>800</td>\n",
       "      <td>890.639865</td>\n",
       "    </tr>\n",
       "    <tr>\n",
       "      <th>52</th>\n",
       "      <td>800</td>\n",
       "      <td>955.763930</td>\n",
       "    </tr>\n",
       "    <tr>\n",
       "      <th>53</th>\n",
       "      <td>1200</td>\n",
       "      <td>793.058894</td>\n",
       "    </tr>\n",
       "    <tr>\n",
       "      <th>54</th>\n",
       "      <td>800</td>\n",
       "      <td>827.490806</td>\n",
       "    </tr>\n",
       "    <tr>\n",
       "      <th>55</th>\n",
       "      <td>1000</td>\n",
       "      <td>765.116075</td>\n",
       "    </tr>\n",
       "    <tr>\n",
       "      <th>56</th>\n",
       "      <td>1200</td>\n",
       "      <td>748.186272</td>\n",
       "    </tr>\n",
       "    <tr>\n",
       "      <th>57</th>\n",
       "      <td>800</td>\n",
       "      <td>808.846708</td>\n",
       "    </tr>\n",
       "    <tr>\n",
       "      <th>58</th>\n",
       "      <td>400</td>\n",
       "      <td>939.732647</td>\n",
       "    </tr>\n",
       "    <tr>\n",
       "      <th>59</th>\n",
       "      <td>800</td>\n",
       "      <td>894.614676</td>\n",
       "    </tr>\n",
       "    <tr>\n",
       "      <th>60</th>\n",
       "      <td>400</td>\n",
       "      <td>997.113334</td>\n",
       "    </tr>\n",
       "    <tr>\n",
       "      <th>61</th>\n",
       "      <td>400</td>\n",
       "      <td>921.459584</td>\n",
       "    </tr>\n",
       "    <tr>\n",
       "      <th>62</th>\n",
       "      <td>1000</td>\n",
       "      <td>883.212903</td>\n",
       "    </tr>\n",
       "    <tr>\n",
       "      <th>63</th>\n",
       "      <td>1000</td>\n",
       "      <td>780.916431</td>\n",
       "    </tr>\n",
       "    <tr>\n",
       "      <th>64</th>\n",
       "      <td>800</td>\n",
       "      <td>809.659900</td>\n",
       "    </tr>\n",
       "    <tr>\n",
       "      <th>65</th>\n",
       "      <td>600</td>\n",
       "      <td>839.357376</td>\n",
       "    </tr>\n",
       "    <tr>\n",
       "      <th>66</th>\n",
       "      <td>400</td>\n",
       "      <td>827.266720</td>\n",
       "    </tr>\n",
       "    <tr>\n",
       "      <th>67</th>\n",
       "      <td>400</td>\n",
       "      <td>802.353410</td>\n",
       "    </tr>\n",
       "    <tr>\n",
       "      <th>68</th>\n",
       "      <td>600</td>\n",
       "      <td>940.712076</td>\n",
       "    </tr>\n",
       "    <tr>\n",
       "      <th>69</th>\n",
       "      <td>400</td>\n",
       "      <td>921.130236</td>\n",
       "    </tr>\n",
       "    <tr>\n",
       "      <th>70</th>\n",
       "      <td>400</td>\n",
       "      <td>720.048194</td>\n",
       "    </tr>\n",
       "    <tr>\n",
       "      <th>71</th>\n",
       "      <td>600</td>\n",
       "      <td>800.137928</td>\n",
       "    </tr>\n",
       "    <tr>\n",
       "      <th>72</th>\n",
       "      <td>600</td>\n",
       "      <td>815.218257</td>\n",
       "    </tr>\n",
       "    <tr>\n",
       "      <th>73</th>\n",
       "      <td>800</td>\n",
       "      <td>891.496971</td>\n",
       "    </tr>\n",
       "    <tr>\n",
       "      <th>74</th>\n",
       "      <td>800</td>\n",
       "      <td>945.957690</td>\n",
       "    </tr>\n",
       "    <tr>\n",
       "      <th>75</th>\n",
       "      <td>600</td>\n",
       "      <td>871.209668</td>\n",
       "    </tr>\n",
       "    <tr>\n",
       "      <th>76</th>\n",
       "      <td>1000</td>\n",
       "      <td>909.280576</td>\n",
       "    </tr>\n",
       "    <tr>\n",
       "      <th>77</th>\n",
       "      <td>400</td>\n",
       "      <td>949.964719</td>\n",
       "    </tr>\n",
       "    <tr>\n",
       "      <th>78</th>\n",
       "      <td>800</td>\n",
       "      <td>782.016958</td>\n",
       "    </tr>\n",
       "    <tr>\n",
       "      <th>79</th>\n",
       "      <td>1000</td>\n",
       "      <td>776.796593</td>\n",
       "    </tr>\n",
       "    <tr>\n",
       "      <th>80</th>\n",
       "      <td>200</td>\n",
       "      <td>886.653801</td>\n",
       "    </tr>\n",
       "    <tr>\n",
       "      <th>81</th>\n",
       "      <td>800</td>\n",
       "      <td>819.338303</td>\n",
       "    </tr>\n",
       "    <tr>\n",
       "      <th>82</th>\n",
       "      <td>400</td>\n",
       "      <td>925.973024</td>\n",
       "    </tr>\n",
       "    <tr>\n",
       "      <th>83</th>\n",
       "      <td>400</td>\n",
       "      <td>802.353410</td>\n",
       "    </tr>\n",
       "    <tr>\n",
       "      <th>84</th>\n",
       "      <td>2000</td>\n",
       "      <td>851.824030</td>\n",
       "    </tr>\n",
       "    <tr>\n",
       "      <th>85</th>\n",
       "      <td>1200</td>\n",
       "      <td>780.649133</td>\n",
       "    </tr>\n",
       "    <tr>\n",
       "      <th>86</th>\n",
       "      <td>1200</td>\n",
       "      <td>816.613890</td>\n",
       "    </tr>\n",
       "    <tr>\n",
       "      <th>87</th>\n",
       "      <td>1200</td>\n",
       "      <td>958.964979</td>\n",
       "    </tr>\n",
       "    <tr>\n",
       "      <th>88</th>\n",
       "      <td>2000</td>\n",
       "      <td>838.611421</td>\n",
       "    </tr>\n",
       "    <tr>\n",
       "      <th>89</th>\n",
       "      <td>1200</td>\n",
       "      <td>850.548227</td>\n",
       "    </tr>\n",
       "    <tr>\n",
       "      <th>90</th>\n",
       "      <td>200</td>\n",
       "      <td>802.353410</td>\n",
       "    </tr>\n",
       "    <tr>\n",
       "      <th>91</th>\n",
       "      <td>1000</td>\n",
       "      <td>899.741812</td>\n",
       "    </tr>\n",
       "    <tr>\n",
       "      <th>92</th>\n",
       "      <td>800</td>\n",
       "      <td>1011.784773</td>\n",
       "    </tr>\n",
       "    <tr>\n",
       "      <th>93</th>\n",
       "      <td>800</td>\n",
       "      <td>802.353410</td>\n",
       "    </tr>\n",
       "    <tr>\n",
       "      <th>94</th>\n",
       "      <td>1000</td>\n",
       "      <td>938.593559</td>\n",
       "    </tr>\n",
       "    <tr>\n",
       "      <th>95</th>\n",
       "      <td>800</td>\n",
       "      <td>919.473167</td>\n",
       "    </tr>\n",
       "    <tr>\n",
       "      <th>96</th>\n",
       "      <td>1000</td>\n",
       "      <td>802.353410</td>\n",
       "    </tr>\n",
       "    <tr>\n",
       "      <th>97</th>\n",
       "      <td>200</td>\n",
       "      <td>748.892662</td>\n",
       "    </tr>\n",
       "    <tr>\n",
       "      <th>98</th>\n",
       "      <td>1000</td>\n",
       "      <td>865.193509</td>\n",
       "    </tr>\n",
       "    <tr>\n",
       "      <th>99</th>\n",
       "      <td>400</td>\n",
       "      <td>839.723583</td>\n",
       "    </tr>\n",
       "    <tr>\n",
       "      <th>100</th>\n",
       "      <td>200</td>\n",
       "      <td>838.561275</td>\n",
       "    </tr>\n",
       "  </tbody>\n",
       "</table>\n",
       "</div>"
      ],
      "text/plain": [
       "     value  Predictions\n",
       "50    2000   827.092162\n",
       "51     800   890.639865\n",
       "52     800   955.763930\n",
       "53    1200   793.058894\n",
       "54     800   827.490806\n",
       "55    1000   765.116075\n",
       "56    1200   748.186272\n",
       "57     800   808.846708\n",
       "58     400   939.732647\n",
       "59     800   894.614676\n",
       "60     400   997.113334\n",
       "61     400   921.459584\n",
       "62    1000   883.212903\n",
       "63    1000   780.916431\n",
       "64     800   809.659900\n",
       "65     600   839.357376\n",
       "66     400   827.266720\n",
       "67     400   802.353410\n",
       "68     600   940.712076\n",
       "69     400   921.130236\n",
       "70     400   720.048194\n",
       "71     600   800.137928\n",
       "72     600   815.218257\n",
       "73     800   891.496971\n",
       "74     800   945.957690\n",
       "75     600   871.209668\n",
       "76    1000   909.280576\n",
       "77     400   949.964719\n",
       "78     800   782.016958\n",
       "79    1000   776.796593\n",
       "80     200   886.653801\n",
       "81     800   819.338303\n",
       "82     400   925.973024\n",
       "83     400   802.353410\n",
       "84    2000   851.824030\n",
       "85    1200   780.649133\n",
       "86    1200   816.613890\n",
       "87    1200   958.964979\n",
       "88    2000   838.611421\n",
       "89    1200   850.548227\n",
       "90     200   802.353410\n",
       "91    1000   899.741812\n",
       "92     800  1011.784773\n",
       "93     800   802.353410\n",
       "94    1000   938.593559\n",
       "95     800   919.473167\n",
       "96    1000   802.353410\n",
       "97     200   748.892662\n",
       "98    1000   865.193509\n",
       "99     400   839.723583\n",
       "100    200   838.561275"
      ]
     },
     "execution_count": 78,
     "metadata": {},
     "output_type": "execute_result"
    }
   ],
   "source": [
    "actual_preds.loc[50:100]"
   ]
  },
  {
   "cell_type": "code",
   "execution_count": 102,
   "metadata": {},
   "outputs": [
    {
     "data": {
      "image/png": "[encoded data removed]",
      "text/plain": [
       "<Figure size 1080x576 with 1 Axes>"
      ]
     },
     "metadata": {},
     "output_type": "display_data"
    }
   ],
   "source": [
    "sns.set_theme(style=\"darkgrid\")\n",
    "sns.regplot(x='value',y='Predictions', data=actual_preds, fit_reg=True, scatter_kws={'color': 'darkred', 'alpha': 0.3, 's': 100}, truncate=False)\n",
    "plt.savefig('actual_v_predicted_bothrounds.png');"
   ]
  },
  {
   "cell_type": "code",
   "execution_count": 115,
   "metadata": {},
   "outputs": [
    {
     "data": {
      "image/png": "[encoded data removed]",
      "text/plain": [
       "<Figure size 1080x576 with 1 Axes>"
      ]
     },
     "metadata": {},
     "output_type": "display_data"
    }
   ],
   "source": [
    "#plotting residuals\n",
    "sns.residplot(x='value',y='Predictions', data=actual_preds)\n",
    "plt.savefig('redidplot.png');"
   ]
  },
  {
   "cell_type": "code",
   "execution_count": 113,
   "metadata": {},
   "outputs": [
    {
     "data": {
      "image/png": "[encoded data removed]",
      "text/plain": [
       "<Figure size 360x360 with 1 Axes>"
      ]
     },
     "metadata": {},
     "output_type": "display_data"
    }
   ],
   "source": [
    "sns.catplot(x='value',y='Predictions', data=actual_preds)\n",
    "plt.savefig('catplot.png');"
   ]
  },
  {
   "cell_type": "code",
   "execution_count": 114,
   "metadata": {},
   "outputs": [
    {
     "data": {
      "image/png": "[encoded data removed]",
      "text/plain": [
       "<Figure size 360x360 with 1 Axes>"
      ]
     },
     "metadata": {},
     "output_type": "display_data"
    }
   ],
   "source": [
    "sns.catplot(x='value', y='Predictions', data=actual_preds, kind=\"boxen\")\n",
    "plt.savefig('catplot_boxen.png');"
   ]
  },
  {
   "cell_type": "code",
   "execution_count": null,
   "metadata": {},
   "outputs": [],
   "source": []
  },
  {
   "cell_type": "code",
   "execution_count": 120,
   "metadata": {},
   "outputs": [],
   "source": [
    "#try CountVectorizer instead of Tfidf\n",
    "count_vec = CountVectorizer(stop_words='english', ngram_range= (1, 3), max_features=1000)\n",
    "\n",
    "# Fit the vectorizer on X_train and transform it\n",
    "X_train_count_vectorized = count_vec.fit_transform(X_train)"
   ]
  },
  {
   "cell_type": "code",
   "execution_count": 121,
   "metadata": {},
   "outputs": [
    {
     "data": {
      "text/plain": [
       "array([-527.42080666, -527.8094963 ])"
      ]
     },
     "execution_count": 121,
     "metadata": {},
     "output_type": "execute_result"
    }
   ],
   "source": [
    "count_vec_regression_model = LinearRegression()\n",
    "count_vec_regression_cv = cross_val_score(count_vec_regression_model, X_train_count_vectorized, y_train, cv=2, scoring='neg_root_mean_squared_error')\n",
    "count_vec_regression_cv"
   ]
  },
  {
   "cell_type": "code",
   "execution_count": 123,
   "metadata": {},
   "outputs": [],
   "source": [
    "#try Hashing Vectorizer instead of Tfidf\n",
    "hashing_vec = HashingVectorizer(stop_words='english', ngram_range= (1, 3), n_features=1000)\n",
    "\n",
    "# Fit the vectorizer on X_train and transform it\n",
    "X_train_hashing_vectorized = hashing_vec.fit_transform(X_train)"
   ]
  },
  {
   "cell_type": "code",
   "execution_count": 124,
   "metadata": {},
   "outputs": [
    {
     "data": {
      "text/plain": [
       "array([-531.30797562, -532.87480011, -530.24534416, -533.54738601,\n",
       "       -532.84922639])"
      ]
     },
     "execution_count": 124,
     "metadata": {},
     "output_type": "execute_result"
    }
   ],
   "source": [
    "hashing_vec_regression_model = LinearRegression()\n",
    "hashing_vec_regression_cv = cross_val_score(hashing_vec_regression_model, X_train_hashing_vectorized, y_train, scoring='neg_root_mean_squared_error')\n",
    "hashing_vec_regression_cv"
   ]
  },
  {
   "cell_type": "code",
   "execution_count": 125,
   "metadata": {},
   "outputs": [
    {
     "data": {
      "text/plain": [
       "array([-532.97197055, -533.3378831 ])"
      ]
     },
     "execution_count": 125,
     "metadata": {},
     "output_type": "execute_result"
    }
   ],
   "source": [
    "# try ElasticNet\n",
    "\n",
    "elastic_model = ElasticNet()\n",
    "elastic_regression_cv = cross_val_score(elastic_model, X_train_vectorized10, y_train, cv=2, scoring='neg_root_mean_squared_error')\n",
    "elastic_regression_cv"
   ]
  },
  {
   "cell_type": "code",
   "execution_count": 127,
   "metadata": {},
   "outputs": [
    {
     "data": {
      "text/plain": [
       "array([-527.21886821, -527.58144487])"
      ]
     },
     "execution_count": 127,
     "metadata": {},
     "output_type": "execute_result"
    }
   ],
   "source": [
    "# try Ridge\n",
    "\n",
    "ridge_regression = Ridge()\n",
    "ridge_regression_cv = cross_val_score(ridge_regression, X_train_vectorized10, y_train, cv=2, scoring='neg_root_mean_squared_error')\n",
    "ridge_regression_cv"
   ]
  },
  {
   "cell_type": "code",
   "execution_count": 130,
   "metadata": {},
   "outputs": [
    {
     "name": "stdout",
     "output_type": "stream",
     "text": [
      "Ridge Regression: 527.4001565415663\n"
     ]
    }
   ],
   "source": [
    "print(\"Ridge Regression:\", -(ridge_regression_cv.mean()))"
   ]
  },
  {
   "cell_type": "code",
   "execution_count": 128,
   "metadata": {},
   "outputs": [
    {
     "data": {
      "text/plain": [
       "array([-527.24072957, -527.60099942])"
      ]
     },
     "execution_count": 128,
     "metadata": {},
     "output_type": "execute_result"
    }
   ],
   "source": [
    "ridge_regression2 = Ridge(alpha=.5)\n",
    "ridge_regression2_cv = cross_val_score(ridge_regression2, X_train_vectorized10, y_train, cv=2, scoring='neg_root_mean_squared_error')\n",
    "ridge_regression2_cv"
   ]
  },
  {
   "cell_type": "code",
   "execution_count": 129,
   "metadata": {},
   "outputs": [
    {
     "data": {
      "text/plain": [
       "array([-527.22688926, -527.58911459])"
      ]
     },
     "execution_count": 129,
     "metadata": {},
     "output_type": "execute_result"
    }
   ],
   "source": [
    "ridge_regression3 = Ridge(alpha=.8)\n",
    "ridge_regression3_cv = cross_val_score(ridge_regression3, X_train_vectorized10, y_train, cv=2, scoring='neg_root_mean_squared_error')\n",
    "ridge_regression3_cv"
   ]
  },
  {
   "cell_type": "code",
   "execution_count": 132,
   "metadata": {},
   "outputs": [
    {
     "name": "stdout",
     "output_type": "stream",
     "text": [
      "Ridge Regression, alpha=0.8: 527.4080019258124\n"
     ]
    }
   ],
   "source": [
    "print(\"Ridge Regression, alpha=0.8:\", -(ridge_regression3_cv.mean()))"
   ]
  },
  {
   "cell_type": "code",
   "execution_count": null,
   "metadata": {},
   "outputs": [],
   "source": []
  },
  {
   "cell_type": "code",
   "execution_count": null,
   "metadata": {},
   "outputs": [],
   "source": []
  },
  {
   "cell_type": "code",
   "execution_count": 174,
   "metadata": {},
   "outputs": [],
   "source": [
    "def mape(y_true, y_predict):\n",
    "#     y_true = np.array(y_true)\n",
    "#     y_predict = np.array(y_predict)\n",
    "    return np.abs((y_true - y_pred)/y_true).mean()\n",
    "\n",
    "mape_scorer = make_scorer(mape, greater_is_better=False)"
   ]
  },
  {
   "cell_type": "code",
   "execution_count": 185,
   "metadata": {},
   "outputs": [],
   "source": [
    "def percentage_error(actual, predicted):\n",
    "   res = np.empty(actual.shape)\n",
    "   for j in range(actual.shape[0]):\n",
    "       if actual[j] != 0:\n",
    "           res[j] = (actual[j] - predicted[j]) / actual[j]\n",
    "       else:\n",
    "           res[j] = predicted[j] / np.mean(actual)\n",
    "   return res\n",
    "\n",
    "def mean_absolute_percentage_error(y_test, y_pred): \n",
    "   return np.mean(np.abs(percentage_error(np.asarray(y_test), np.asarray(y_pred)))) * 100\n",
    "\n",
    "mape_score = make_scorer(mean_absolute_percentage_error, greater_is_better=False)"
   ]
  },
  {
   "cell_type": "code",
   "execution_count": 187,
   "metadata": {},
   "outputs": [],
   "source": [
    "#shout out to Pablo Andrés Castañeda, Stack Overflow, https://stackoverflow.com/questions/47648133/mape-calculation-in-python/59033147#59033147 "
   ]
  },
  {
   "cell_type": "code",
   "execution_count": 186,
   "metadata": {},
   "outputs": [
    {
     "data": {
      "text/plain": [
       "array([-79.04169445, -79.38234375])"
      ]
     },
     "execution_count": 186,
     "metadata": {},
     "output_type": "execute_result"
    }
   ],
   "source": [
    "ridge_regression3 = Ridge(alpha=.8)\n",
    "ridge_regression3_cv = cross_val_score(ridge_regression3, X_train_vectorized10, y_train, cv=2, scoring=mape_score)\n",
    "ridge_regression3_cv"
   ]
  },
  {
   "cell_type": "code",
   "execution_count": 173,
   "metadata": {},
   "outputs": [
    {
     "data": {
      "text/plain": [
       "pandas.core.series.Series"
      ]
     },
     "execution_count": 173,
     "metadata": {},
     "output_type": "execute_result"
    }
   ],
   "source": [
    "type(X_train)"
   ]
  },
  {
   "cell_type": "code",
   "execution_count": 172,
   "metadata": {},
   "outputs": [
    {
     "data": {
      "text/plain": [
       "pandas.core.series.Series"
      ]
     },
     "execution_count": 172,
     "metadata": {},
     "output_type": "execute_result"
    }
   ],
   "source": [
    "type(y_train)"
   ]
  },
  {
   "cell_type": "code",
   "execution_count": null,
   "metadata": {},
   "outputs": [],
   "source": []
  },
  {
   "cell_type": "code",
   "execution_count": null,
   "metadata": {},
   "outputs": [],
   "source": []
  },
  {
   "cell_type": "code",
   "execution_count": null,
   "metadata": {},
   "outputs": [],
   "source": []
  },
  {
   "cell_type": "code",
   "execution_count": 138,
   "metadata": {},
   "outputs": [],
   "source": [
    "import sklearn"
   ]
  },
  {
   "cell_type": "code",
   "execution_count": 139,
   "metadata": {},
   "outputs": [
    {
     "data": {
      "text/plain": [
       "['accuracy',\n",
       " 'adjusted_mutual_info_score',\n",
       " 'adjusted_rand_score',\n",
       " 'average_precision',\n",
       " 'balanced_accuracy',\n",
       " 'completeness_score',\n",
       " 'explained_variance',\n",
       " 'f1',\n",
       " 'f1_macro',\n",
       " 'f1_micro',\n",
       " 'f1_samples',\n",
       " 'f1_weighted',\n",
       " 'fowlkes_mallows_score',\n",
       " 'homogeneity_score',\n",
       " 'jaccard',\n",
       " 'jaccard_macro',\n",
       " 'jaccard_micro',\n",
       " 'jaccard_samples',\n",
       " 'jaccard_weighted',\n",
       " 'max_error',\n",
       " 'mutual_info_score',\n",
       " 'neg_brier_score',\n",
       " 'neg_log_loss',\n",
       " 'neg_mean_absolute_error',\n",
       " 'neg_mean_gamma_deviance',\n",
       " 'neg_mean_poisson_deviance',\n",
       " 'neg_mean_squared_error',\n",
       " 'neg_mean_squared_log_error',\n",
       " 'neg_median_absolute_error',\n",
       " 'neg_root_mean_squared_error',\n",
       " 'normalized_mutual_info_score',\n",
       " 'precision',\n",
       " 'precision_macro',\n",
       " 'precision_micro',\n",
       " 'precision_samples',\n",
       " 'precision_weighted',\n",
       " 'r2',\n",
       " 'recall',\n",
       " 'recall_macro',\n",
       " 'recall_micro',\n",
       " 'recall_samples',\n",
       " 'recall_weighted',\n",
       " 'roc_auc',\n",
       " 'roc_auc_ovo',\n",
       " 'roc_auc_ovo_weighted',\n",
       " 'roc_auc_ovr',\n",
       " 'roc_auc_ovr_weighted',\n",
       " 'v_measure_score']"
      ]
     },
     "execution_count": 139,
     "metadata": {},
     "output_type": "execute_result"
    }
   ],
   "source": [
    "sorted(sklearn.metrics.SCORERS.keys())"
   ]
  },
  {
   "cell_type": "code",
   "execution_count": 164,
   "metadata": {},
   "outputs": [
    {
     "ename": "ImportError",
     "evalue": "cannot import name 'mean_absolute_percentage_error' from 'sklearn.metrics' (/Users/sallypants/opt/anaconda3/envs/learn-env/lib/python3.8/site-packages/sklearn/metrics/__init__.py)",
     "output_type": "error",
     "traceback": [
      "\u001b[0;31m---------------------------------------------------------------------------\u001b[0m",
      "\u001b[0;31mImportError\u001b[0m                               Traceback (most recent call last)",
      "\u001b[0;32m<ipython-input-164-6c95b1f00cdd>\u001b[0m in \u001b[0;36m<module>\u001b[0;34m\u001b[0m\n\u001b[0;32m----> 1\u001b[0;31m \u001b[0;32mfrom\u001b[0m \u001b[0msklearn\u001b[0m\u001b[0;34m.\u001b[0m\u001b[0mmetrics\u001b[0m \u001b[0;32mimport\u001b[0m \u001b[0mmean_absolute_percentage_error\u001b[0m\u001b[0;34m\u001b[0m\u001b[0;34m\u001b[0m\u001b[0m\n\u001b[0m",
      "\u001b[0;31mImportError\u001b[0m: cannot import name 'mean_absolute_percentage_error' from 'sklearn.metrics' (/Users/sallypants/opt/anaconda3/envs/learn-env/lib/python3.8/site-packages/sklearn/metrics/__init__.py)"
     ]
    }
   ],
   "source": [
    "from sklearn.metrics import mean_absolute_percentage_error"
   ]
  },
  {
   "cell_type": "code",
   "execution_count": 165,
   "metadata": {},
   "outputs": [
    {
     "name": "stdout",
     "output_type": "stream",
     "text": [
      "The scikit-learn version is 0.23.2.\n"
     ]
    }
   ],
   "source": [
    "print('The scikit-learn version is {}.'.format(sklearn.__version__))"
   ]
  },
  {
   "cell_type": "code",
   "execution_count": null,
   "metadata": {},
   "outputs": [],
   "source": []
  }
 ],
 "metadata": {
  "kernelspec": {
   "display_name": "Python (learn-env)",
   "language": "python",
   "name": "learn-env"
  },
  "language_info": {
   "codemirror_mode": {
    "name": "ipython",
    "version": 3
   },
   "file_extension": ".py",
   "mimetype": "text/x-python",
   "name": "python",
   "nbconvert_exporter": "python",
   "pygments_lexer": "ipython3",
   "version": "3.8.5"
  }
 },
 "nbformat": 4,
 "nbformat_minor": 4
}
